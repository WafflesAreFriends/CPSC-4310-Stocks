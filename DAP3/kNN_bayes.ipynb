{
 "cells": [
  {
   "cell_type": "markdown",
   "metadata": {},
   "source": [
    "## K-NN and Naïve Bayes Models "
   ]
  },
  {
   "cell_type": "code",
   "execution_count": 6,
   "metadata": {},
   "outputs": [],
   "source": [
    "# Python ≥3.5 is required\n",
    "import sys\n",
    "assert sys.version_info >= (3, 5)\n",
    "\n",
    "# Scikit-Learn ≥0.20 is required\n",
    "import sklearn\n",
    "assert sklearn.__version__ >= \"0.20\"\n",
    "\n",
    "# Common imports\n",
    "import numpy as np\n",
    "import pandas as pd\n",
    "import os\n",
    "from sklearn.metrics import confusion_matrix\n",
    "from sklearn.metrics import classification_report\n",
    "from sklearn.model_selection import train_test_split\n",
    "\n",
    "# To plot pretty figures\n",
    "%matplotlib inline\n",
    "import matplotlib as mpl\n",
    "import matplotlib.pyplot as plt\n",
    "from matplotlib import cm\n",
    "\n",
    "mpl.rc('axes', labelsize=14)\n",
    "mpl.rc('xtick', labelsize=12)\n",
    "mpl.rc('ytick', labelsize=12)"
   ]
  },
  {
   "cell_type": "code",
   "execution_count": 17,
   "metadata": {},
   "outputs": [],
   "source": [
    "# grab data and split\n",
    "df = pd.read_csv(\"../DAP2/processeddata/2018_Financial_Data.csv\", index_col=0)\n",
    "target_cols = ['priceCashFlowRatio', \n",
    "               'priceEarningsRatio', \n",
    "               'priceEarningsToGrowthRatio', \n",
    "               'priceBookValueRatio', \n",
    "               'currentRatio', \n",
    "               'quickRatio',\n",
    "               'payoutRatio']\n",
    "X = df[target_cols]\n",
    "y = df['Class']\n",
    "X_train, X_test, y_train, y_test = train_test_split(X, y, random_state=0)\n",
    "\n",
    "# scale data\n",
    "from sklearn.preprocessing import MinMaxScaler\n",
    "scaler = MinMaxScaler()\n",
    "X_train_scaled = scaler.fit_transform(X_train)\n",
    "X_test_scaled = scaler.transform(X_test)"
   ]
  },
  {
   "cell_type": "markdown",
   "metadata": {},
   "source": [
    "## KNN Model "
   ]
  },
  {
   "cell_type": "code",
   "execution_count": 18,
   "metadata": {},
   "outputs": [
    {
     "name": "stdout",
     "output_type": "stream",
     "text": [
      "Highest Accuracy (no-reg): 0.7677261613691931 at k = 19\n",
      "Highest Accuracy (reg): 0.7628361858190709 at k = 20\n"
     ]
    },
    {
     "data": {
      "image/png": "[encoded data removed]",
      "text/plain": [
       "<Figure size 432x288 with 1 Axes>"
      ]
     },
     "metadata": {
      "needs_background": "light"
     },
     "output_type": "display_data"
    }
   ],
   "source": [
    "# create and fine tune kNN model\n",
    "from sklearn.neighbors import KNeighborsClassifier\n",
    "\n",
    "# find optimal k \n",
    "k_range = range(1,30)\n",
    "scores = []\n",
    "reg_scores = []\n",
    "for k in k_range:\n",
    "    knn = KNeighborsClassifier(n_neighbors = k)\n",
    "    # primary fit\n",
    "    knn.fit(X_train, y_train)\n",
    "    scores.append(knn.score(X_test, y_test))\n",
    "    # regularized fit\n",
    "    knn.fit(X_train_scaled, y_train)\n",
    "    reg_scores.append(knn.score(X_test_scaled, y_test))\n",
    "    \n",
    "# plot scores and find maximum\n",
    "plt.figure()\n",
    "plt.xlabel('k')\n",
    "plt.ylabel('accuracy')\n",
    "plt.scatter(k_range, scores, c='b')\n",
    "plt.scatter(k_range, reg_scores, c='g')\n",
    "plt.legend(['raw', 'regularized'])\n",
    "m = max(scores)\n",
    "mR = max(reg_scores)\n",
    "m_index = scores.index(m)+1\n",
    "m_indexR = reg_scores.index(mR)+1\n",
    "plt.axhline(y=m, color='b', linestyle=':')\n",
    "plt.axhline(y=mR, color='g', linestyle=':')\n",
    "print('Highest Accuracy (no-reg):',m,'at k =',m_index)\n",
    "print('Highest Accuracy (reg):',mR,'at k =',m_indexR)"
   ]
  },
  {
   "cell_type": "code",
   "execution_count": 5,
   "metadata": {},
   "outputs": [
    {
     "name": "stdout",
     "output_type": "stream",
     "text": [
      "Best Partition (no-reg): 0.7729124236252547 training on 60.0 % data\n",
      "Best Partition (reg): 0.7596741344195519 training on 60.0 % data\n"
     ]
    },
    {
     "data": {
      "image/png": "[encoded data removed]",
      "text/plain": [
       "<Figure size 432x288 with 1 Axes>"
      ]
     },
     "metadata": {
      "needs_background": "light"
     },
     "output_type": "display_data"
    }
   ],
   "source": [
    "# find optimal testing versus training split size\n",
    "num_tests = 100 # testing threshold \n",
    "t = [0.5, 0.6, 0.7, 0.8, 0.9]\n",
    "knn = KNeighborsClassifier(n_neighbors = m_indexR)\n",
    "plt.figure()\n",
    "\n",
    "nr = []\n",
    "r = []\n",
    "for s in t:\n",
    "    scores = []\n",
    "    reg_scores = []\n",
    "    for i in range(num_tests):\n",
    "        X_train, X_test, y_train, y_test = train_test_split(X, y, test_size = s, random_state=0)\n",
    "        X_train_scaled = scaler.fit_transform(X_train)\n",
    "        X_test_scaled = scaler.transform(X_test)\n",
    "        # normal fit\n",
    "        knn.fit(X_train, y_train)\n",
    "        scores.append(knn.score(X_test, y_test))\n",
    "        # regularized fit \n",
    "        knn.fit(X_train_scaled, y_train)\n",
    "        reg_scores.append(knn.score(X_test_scaled, y_test))\n",
    "        \n",
    "    nr.append(np.mean(scores))\n",
    "    plt.plot(s, nr[-1], 'bo')\n",
    "    r.append(np.mean(reg_scores))\n",
    "    plt.plot(s, r[-1], 'bo', c='g')\n",
    "\n",
    "plt.xlabel('Training set proportion (%)')\n",
    "plt.ylabel('accuracy');\n",
    "plt.legend(['raw', 'regularized'])\n",
    "md = max(nr)\n",
    "mdR = max(r)\n",
    "md_index = t[nr.index(md)]\n",
    "md_indexR = t[r.index(mdR)]\n",
    "plt.axhline(y=md, color='b', linestyle=':')\n",
    "plt.axhline(y=mdR, color='g', linestyle=':')\n",
    "print('Best Partition (no-reg):',md,'training on',md_index*100,'% data')\n",
    "print('Best Partition (reg):',mdR,'training on',md_indexR*100,'% data')"
   ]
  },
  {
   "cell_type": "markdown",
   "metadata": {},
   "source": [
    "## Naïve Bayes Model"
   ]
  },
  {
   "cell_type": "code",
   "execution_count": 121,
   "metadata": {},
   "outputs": [],
   "source": [
    "# re-split and train data for fresh start\n",
    "X_train, X_test, y_train, y_test = train_test_split(X, y, random_state=0)\n",
    "\n",
    "# scale data\n",
    "from sklearn.preprocessing import MinMaxScaler\n",
    "scaler = MinMaxScaler()\n",
    "X_train_scaled = scaler.fit_transform(X_train)\n",
    "X_test_scaled = scaler.transform(X_test)"
   ]
  },
  {
   "cell_type": "code",
   "execution_count": 125,
   "metadata": {},
   "outputs": [
    {
     "name": "stdout",
     "output_type": "stream",
     "text": [
      "Non-Regularized\n",
      "Accuracy on training set: 0.73\n",
      "Accuracy on test set: 0.74\n",
      "\n",
      "Regularized\n",
      "Accuracy on training set: 0.73\n",
      "Accuracy on test set: 0.74\n"
     ]
    }
   ],
   "source": [
    "# create and find optimal NB\n",
    "from sklearn.naive_bayes import GaussianNB\n",
    "\n",
    "nbclf = GaussianNB().fit(X_train, y_train)\n",
    "print('Non-Regularized')\n",
    "print('Accuracy on training set: {:.2f}'\n",
    "     .format(nbclf.score(X_train, y_train)))\n",
    "print('Accuracy on test set: {:.2f}'\n",
    "     .format(nbclf.score(X_test, y_test)))\n",
    "\n",
    "nbclf = GaussianNB().fit(X_train_scaled, y_train)\n",
    "print('\\nRegularized')\n",
    "print('Accuracy on training set: {:.2f}'\n",
    "     .format(nbclf.score(X_train_scaled, y_train)))\n",
    "print('Accuracy on test set: {:.2f}'\n",
    "     .format(nbclf.score(X_test_scaled, y_test)))"
   ]
  },
  {
   "cell_type": "code",
   "execution_count": 127,
   "metadata": {},
   "outputs": [
    {
     "name": "stdout",
     "output_type": "stream",
     "text": [
      "Best Partition (reg): 0.732620320855615 training on 80.0 % data\n"
     ]
    },
    {
     "data": {
      "image/png": "[encoded data removed]",
      "text/plain": [
       "<Figure size 432x288 with 1 Axes>"
      ]
     },
     "metadata": {
      "needs_background": "light"
     },
     "output_type": "display_data"
    }
   ],
   "source": [
    "# find optimal testing vs training split size\n",
    "num_tests = 1000 # testing threshold \n",
    "t = [0.5, 0.6, 0.7, 0.8, 0.9]\n",
    "plt.figure()\n",
    "\n",
    "r = []\n",
    "for s in t:\n",
    "    reg_scores = []\n",
    "    for i in range(num_tests):\n",
    "        X_train, X_test, y_train, y_test = train_test_split(X, y, test_size = s, random_state=0)\n",
    "        X_train_scaled = scaler.fit_transform(X_train)\n",
    "        X_test_scaled = scaler.transform(X_test)\n",
    "        # regularized fit \n",
    "        nbclf = GaussianNB().fit(X_train_scaled, y_train)\n",
    "        reg_scores.append(nbclf.score(X_test_scaled, y_test))\n",
    "        \n",
    "    r.append(np.mean(reg_scores))\n",
    "    plt.plot(s, r[-1], 'bo', c='g')\n",
    "    \n",
    "# plot results\n",
    "plt.xlabel('Training set proportion (%)')\n",
    "plt.ylabel('accuracy');\n",
    "plt.legend(['regularized'])\n",
    "mdR = max(r)\n",
    "md_indexR = t[r.index(mdR)]\n",
    "plt.axhline(y=mdR, color='g', linestyle=':')\n",
    "print('Best Partition (reg):',mdR,'training on',md_indexR*100,'% data')"
   ]
  },
  {
   "cell_type": "code",
   "execution_count": null,
   "metadata": {},
   "outputs": [],
   "source": []
  }
 ],
 "metadata": {
  "kernelspec": {
   "display_name": "Python 3",
   "language": "python",
   "name": "python3"
  },
  "language_info": {
   "codemirror_mode": {
    "name": "ipython",
    "version": 3
   },
   "file_extension": ".py",
   "mimetype": "text/x-python",
   "name": "python",
   "nbconvert_exporter": "python",
   "pygments_lexer": "ipython3",
   "version": "3.7.4"
  }
 },
 "nbformat": 4,
 "nbformat_minor": 4
}

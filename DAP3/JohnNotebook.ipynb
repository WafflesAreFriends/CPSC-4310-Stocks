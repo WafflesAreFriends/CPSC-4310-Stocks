{
 "cells": [
  {
   "cell_type": "code",
   "execution_count": 2,
   "metadata": {},
   "outputs": [],
   "source": [
    "import pandas as pd\n",
    "import numpy as np\n",
    "import matplotlib.pyplot as plt\n",
    "\n",
    "df = pd.read_csv(\"../DAP2/processeddata/2018_Financial_Data.csv\")"
   ]
  },
  {
   "cell_type": "code",
   "execution_count": 6,
   "metadata": {},
   "outputs": [
    {
     "data": {
      "text/html": [
       "<div>\n",
       "<style scoped>\n",
       "    .dataframe tbody tr th:only-of-type {\n",
       "        vertical-align: middle;\n",
       "    }\n",
       "\n",
       "    .dataframe tbody tr th {\n",
       "        vertical-align: top;\n",
       "    }\n",
       "\n",
       "    .dataframe thead th {\n",
       "        text-align: right;\n",
       "    }\n",
       "</style>\n",
       "<table border=\"1\" class=\"dataframe\">\n",
       "  <thead>\n",
       "    <tr style=\"text-align: right;\">\n",
       "      <th></th>\n",
       "      <th>Unnamed: 0</th>\n",
       "      <th>priceCashFlowRatio</th>\n",
       "      <th>priceEarningsRatio</th>\n",
       "      <th>priceEarningsToGrowthRatio</th>\n",
       "      <th>priceBookValueRatio</th>\n",
       "      <th>currentRatio</th>\n",
       "      <th>quickRatio</th>\n",
       "      <th>payoutRatio</th>\n",
       "      <th>Class</th>\n",
       "    </tr>\n",
       "  </thead>\n",
       "  <tbody>\n",
       "    <tr>\n",
       "      <td>0</td>\n",
       "      <td>0</td>\n",
       "      <td>6.342493</td>\n",
       "      <td>13.3008</td>\n",
       "      <td>13.136438</td>\n",
       "      <td>2.1632</td>\n",
       "      <td>0.792000</td>\n",
       "      <td>0.540449</td>\n",
       "      <td>0.358</td>\n",
       "      <td>1</td>\n",
       "    </tr>\n",
       "    <tr>\n",
       "      <td>1</td>\n",
       "      <td>2</td>\n",
       "      <td>7.261557</td>\n",
       "      <td>10.2691</td>\n",
       "      <td>10.151625</td>\n",
       "      <td>2.8625</td>\n",
       "      <td>1.731000</td>\n",
       "      <td>1.105016</td>\n",
       "      <td>0.263</td>\n",
       "      <td>1</td>\n",
       "    </tr>\n",
       "    <tr>\n",
       "      <td>2</td>\n",
       "      <td>3</td>\n",
       "      <td>3.493076</td>\n",
       "      <td>4.2999</td>\n",
       "      <td>4.299931</td>\n",
       "      <td>1.8919</td>\n",
       "      <td>2.787000</td>\n",
       "      <td>2.134168</td>\n",
       "      <td>0.000</td>\n",
       "      <td>1</td>\n",
       "    </tr>\n",
       "    <tr>\n",
       "      <td>3</td>\n",
       "      <td>4</td>\n",
       "      <td>14.889428</td>\n",
       "      <td>0.0000</td>\n",
       "      <td>47.514074</td>\n",
       "      <td>2.0436</td>\n",
       "      <td>1.718208</td>\n",
       "      <td>1.402587</td>\n",
       "      <td>-0.141</td>\n",
       "      <td>1</td>\n",
       "    </tr>\n",
       "    <tr>\n",
       "      <td>4</td>\n",
       "      <td>5</td>\n",
       "      <td>6.229351</td>\n",
       "      <td>9.3333</td>\n",
       "      <td>8.746366</td>\n",
       "      <td>0.9151</td>\n",
       "      <td>0.411740</td>\n",
       "      <td>0.410799</td>\n",
       "      <td>0.205</td>\n",
       "      <td>1</td>\n",
       "    </tr>\n",
       "  </tbody>\n",
       "</table>\n",
       "</div>"
      ],
      "text/plain": [
       "   Unnamed: 0  priceCashFlowRatio  priceEarningsRatio  \\\n",
       "0           0            6.342493             13.3008   \n",
       "1           2            7.261557             10.2691   \n",
       "2           3            3.493076              4.2999   \n",
       "3           4           14.889428              0.0000   \n",
       "4           5            6.229351              9.3333   \n",
       "\n",
       "   priceEarningsToGrowthRatio  priceBookValueRatio  currentRatio  quickRatio  \\\n",
       "0                   13.136438               2.1632      0.792000    0.540449   \n",
       "1                   10.151625               2.8625      1.731000    1.105016   \n",
       "2                    4.299931               1.8919      2.787000    2.134168   \n",
       "3                   47.514074               2.0436      1.718208    1.402587   \n",
       "4                    8.746366               0.9151      0.411740    0.410799   \n",
       "\n",
       "   payoutRatio  Class  \n",
       "0        0.358      1  \n",
       "1        0.263      1  \n",
       "2        0.000      1  \n",
       "3       -0.141      1  \n",
       "4        0.205      1  "
      ]
     },
     "execution_count": 6,
     "metadata": {},
     "output_type": "execute_result"
    }
   ],
   "source": [
    "df.head()"
   ]
  },
  {
   "cell_type": "code",
   "execution_count": 8,
   "metadata": {},
   "outputs": [
    {
     "data": {
      "text/plain": [
       "0       1\n",
       "1       1\n",
       "2       1\n",
       "3       1\n",
       "4       1\n",
       "       ..\n",
       "1631    1\n",
       "1632    0\n",
       "1633    1\n",
       "1634    1\n",
       "1635    1\n",
       "Name: Class, Length: 1636, dtype: int64"
      ]
     },
     "execution_count": 8,
     "metadata": {},
     "output_type": "execute_result"
    }
   ],
   "source": [
    "y = df[\"Class\"]"
   ]
  },
  {
   "cell_type": "code",
   "execution_count": null,
   "metadata": {},
   "outputs": [],
   "source": []
  }
 ],
 "metadata": {
  "kernelspec": {
   "display_name": "Python 3",
   "language": "python",
   "name": "python3"
  },
  "language_info": {
   "codemirror_mode": {
    "name": "ipython",
    "version": 3
   },
   "file_extension": ".py",
   "mimetype": "text/x-python",
   "name": "python",
   "nbconvert_exporter": "python",
   "pygments_lexer": "ipython3",
   "version": "3.7.4"
  }
 },
 "nbformat": 4,
 "nbformat_minor": 2
}

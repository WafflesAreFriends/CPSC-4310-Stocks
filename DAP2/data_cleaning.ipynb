{
 "cells": [
  {
   "cell_type": "markdown",
   "metadata": {},
   "source": [
    "# Dataset 1"
   ]
  },
  {
   "cell_type": "code",
   "execution_count": 104,
   "metadata": {},
   "outputs": [
    {
     "data": {
      "text/html": [
       "<div>\n",
       "<style scoped>\n",
       "    .dataframe tbody tr th:only-of-type {\n",
       "        vertical-align: middle;\n",
       "    }\n",
       "\n",
       "    .dataframe tbody tr th {\n",
       "        vertical-align: top;\n",
       "    }\n",
       "\n",
       "    .dataframe thead th {\n",
       "        text-align: right;\n",
       "    }\n",
       "</style>\n",
       "<table border=\"1\" class=\"dataframe\">\n",
       "  <thead>\n",
       "    <tr style=\"text-align: right;\">\n",
       "      <th></th>\n",
       "      <th>Unnamed: 0</th>\n",
       "      <th>Revenue</th>\n",
       "      <th>Revenue Growth</th>\n",
       "      <th>Cost of Revenue</th>\n",
       "      <th>Gross Profit</th>\n",
       "      <th>R&amp;D Expenses</th>\n",
       "      <th>SG&amp;A Expense</th>\n",
       "      <th>Operating Expenses</th>\n",
       "      <th>Operating Income</th>\n",
       "      <th>Interest Expense</th>\n",
       "      <th>...</th>\n",
       "      <th>Receivables growth</th>\n",
       "      <th>Inventory Growth</th>\n",
       "      <th>Asset Growth</th>\n",
       "      <th>Book Value per Share Growth</th>\n",
       "      <th>Debt Growth</th>\n",
       "      <th>R&amp;D Expense Growth</th>\n",
       "      <th>SG&amp;A Expenses Growth</th>\n",
       "      <th>Sector</th>\n",
       "      <th>2019 PRICE VAR [%]</th>\n",
       "      <th>Class</th>\n",
       "    </tr>\n",
       "  </thead>\n",
       "  <tbody>\n",
       "    <tr>\n",
       "      <td>0</td>\n",
       "      <td>CMCSA</td>\n",
       "      <td>9.450700e+10</td>\n",
       "      <td>0.1115</td>\n",
       "      <td>0.000000e+00</td>\n",
       "      <td>9.450700e+10</td>\n",
       "      <td>0.000000e+00</td>\n",
       "      <td>6.482200e+10</td>\n",
       "      <td>7.549800e+10</td>\n",
       "      <td>1.900900e+10</td>\n",
       "      <td>3.542000e+09</td>\n",
       "      <td>...</td>\n",
       "      <td>0.2570</td>\n",
       "      <td>0.0000</td>\n",
       "      <td>0.3426</td>\n",
       "      <td>0.0722</td>\n",
       "      <td>0.7309</td>\n",
       "      <td>0.0000</td>\n",
       "      <td>0.1308</td>\n",
       "      <td>Consumer Cyclical</td>\n",
       "      <td>32.794573</td>\n",
       "      <td>1</td>\n",
       "    </tr>\n",
       "    <tr>\n",
       "      <td>1</td>\n",
       "      <td>KMI</td>\n",
       "      <td>1.414400e+10</td>\n",
       "      <td>0.0320</td>\n",
       "      <td>7.288000e+09</td>\n",
       "      <td>6.856000e+09</td>\n",
       "      <td>0.000000e+00</td>\n",
       "      <td>6.010000e+08</td>\n",
       "      <td>3.062000e+09</td>\n",
       "      <td>3.794000e+09</td>\n",
       "      <td>1.917000e+09</td>\n",
       "      <td>...</td>\n",
       "      <td>0.0345</td>\n",
       "      <td>-0.0920</td>\n",
       "      <td>-0.0024</td>\n",
       "      <td>0.0076</td>\n",
       "      <td>-0.0137</td>\n",
       "      <td>0.0000</td>\n",
       "      <td>-0.1265</td>\n",
       "      <td>Energy</td>\n",
       "      <td>40.588068</td>\n",
       "      <td>1</td>\n",
       "    </tr>\n",
       "    <tr>\n",
       "      <td>2</td>\n",
       "      <td>INTC</td>\n",
       "      <td>7.084800e+10</td>\n",
       "      <td>0.1289</td>\n",
       "      <td>2.711100e+10</td>\n",
       "      <td>4.373700e+10</td>\n",
       "      <td>1.354300e+10</td>\n",
       "      <td>6.750000e+09</td>\n",
       "      <td>2.042100e+10</td>\n",
       "      <td>2.331600e+10</td>\n",
       "      <td>-1.260000e+08</td>\n",
       "      <td>...</td>\n",
       "      <td>0.1989</td>\n",
       "      <td>0.0387</td>\n",
       "      <td>0.0382</td>\n",
       "      <td>0.1014</td>\n",
       "      <td>-0.0169</td>\n",
       "      <td>0.0390</td>\n",
       "      <td>-0.0942</td>\n",
       "      <td>Technology</td>\n",
       "      <td>30.295514</td>\n",
       "      <td>1</td>\n",
       "    </tr>\n",
       "    <tr>\n",
       "      <td>3</td>\n",
       "      <td>MU</td>\n",
       "      <td>3.039100e+10</td>\n",
       "      <td>0.4955</td>\n",
       "      <td>1.250000e+10</td>\n",
       "      <td>1.789100e+10</td>\n",
       "      <td>2.141000e+09</td>\n",
       "      <td>8.130000e+08</td>\n",
       "      <td>2.897000e+09</td>\n",
       "      <td>1.499400e+10</td>\n",
       "      <td>3.420000e+08</td>\n",
       "      <td>...</td>\n",
       "      <td>0.4573</td>\n",
       "      <td>0.1511</td>\n",
       "      <td>0.2275</td>\n",
       "      <td>0.6395</td>\n",
       "      <td>-0.5841</td>\n",
       "      <td>0.1738</td>\n",
       "      <td>0.0942</td>\n",
       "      <td>Technology</td>\n",
       "      <td>64.213737</td>\n",
       "      <td>1</td>\n",
       "    </tr>\n",
       "    <tr>\n",
       "      <td>4</td>\n",
       "      <td>GE</td>\n",
       "      <td>1.216150e+11</td>\n",
       "      <td>0.0285</td>\n",
       "      <td>9.546100e+10</td>\n",
       "      <td>2.615400e+10</td>\n",
       "      <td>0.000000e+00</td>\n",
       "      <td>1.811100e+10</td>\n",
       "      <td>4.071100e+10</td>\n",
       "      <td>-1.455700e+10</td>\n",
       "      <td>5.059000e+09</td>\n",
       "      <td>...</td>\n",
       "      <td>-0.2781</td>\n",
       "      <td>-0.2892</td>\n",
       "      <td>-0.1575</td>\n",
       "      <td>-0.4487</td>\n",
       "      <td>-0.2297</td>\n",
       "      <td>0.0000</td>\n",
       "      <td>0.0308</td>\n",
       "      <td>Industrials</td>\n",
       "      <td>44.757840</td>\n",
       "      <td>1</td>\n",
       "    </tr>\n",
       "  </tbody>\n",
       "</table>\n",
       "<p>5 rows × 225 columns</p>\n",
       "</div>"
      ],
      "text/plain": [
       "  Unnamed: 0       Revenue  Revenue Growth  Cost of Revenue  Gross Profit  \\\n",
       "0      CMCSA  9.450700e+10          0.1115     0.000000e+00  9.450700e+10   \n",
       "1        KMI  1.414400e+10          0.0320     7.288000e+09  6.856000e+09   \n",
       "2       INTC  7.084800e+10          0.1289     2.711100e+10  4.373700e+10   \n",
       "3         MU  3.039100e+10          0.4955     1.250000e+10  1.789100e+10   \n",
       "4         GE  1.216150e+11          0.0285     9.546100e+10  2.615400e+10   \n",
       "\n",
       "   R&D Expenses  SG&A Expense  Operating Expenses  Operating Income  \\\n",
       "0  0.000000e+00  6.482200e+10        7.549800e+10      1.900900e+10   \n",
       "1  0.000000e+00  6.010000e+08        3.062000e+09      3.794000e+09   \n",
       "2  1.354300e+10  6.750000e+09        2.042100e+10      2.331600e+10   \n",
       "3  2.141000e+09  8.130000e+08        2.897000e+09      1.499400e+10   \n",
       "4  0.000000e+00  1.811100e+10        4.071100e+10     -1.455700e+10   \n",
       "\n",
       "   Interest Expense  ...  Receivables growth  Inventory Growth  Asset Growth  \\\n",
       "0      3.542000e+09  ...              0.2570            0.0000        0.3426   \n",
       "1      1.917000e+09  ...              0.0345           -0.0920       -0.0024   \n",
       "2     -1.260000e+08  ...              0.1989            0.0387        0.0382   \n",
       "3      3.420000e+08  ...              0.4573            0.1511        0.2275   \n",
       "4      5.059000e+09  ...             -0.2781           -0.2892       -0.1575   \n",
       "\n",
       "   Book Value per Share Growth  Debt Growth  R&D Expense Growth  \\\n",
       "0                       0.0722       0.7309              0.0000   \n",
       "1                       0.0076      -0.0137              0.0000   \n",
       "2                       0.1014      -0.0169              0.0390   \n",
       "3                       0.6395      -0.5841              0.1738   \n",
       "4                      -0.4487      -0.2297              0.0000   \n",
       "\n",
       "   SG&A Expenses Growth             Sector  2019 PRICE VAR [%]  Class  \n",
       "0                0.1308  Consumer Cyclical           32.794573      1  \n",
       "1               -0.1265             Energy           40.588068      1  \n",
       "2               -0.0942         Technology           30.295514      1  \n",
       "3                0.0942         Technology           64.213737      1  \n",
       "4                0.0308        Industrials           44.757840      1  \n",
       "\n",
       "[5 rows x 225 columns]"
      ]
     },
     "execution_count": 104,
     "metadata": {},
     "output_type": "execute_result"
    }
   ],
   "source": [
    "import numpy as np\n",
    "import pandas as pd\n",
    "import matplotlib.pyplot as plt\n",
    "from sklearn import preprocessing\n",
    "\n",
    "df = pd.read_csv(\"rawdata/2018_Financial_Data.csv\")\n",
    "# Change to int\n",
    "df.head()"
   ]
  },
  {
   "cell_type": "code",
   "execution_count": 105,
   "metadata": {},
   "outputs": [
    {
     "name": "stdout",
     "output_type": "stream",
     "text": [
      "Unnamed: 0\n",
      "Revenue\n",
      "Revenue Growth\n",
      "Cost of Revenue\n",
      "Gross Profit\n",
      "R&D Expenses\n",
      "SG&A Expense\n",
      "Operating Expenses\n",
      "Operating Income\n",
      "Interest Expense\n",
      "Earnings before Tax\n",
      "Income Tax Expense\n",
      "Net Income - Non-Controlling int\n",
      "Net Income - Discontinued ops\n",
      "Net Income\n",
      "Preferred Dividends\n",
      "Net Income Com\n",
      "EPS\n",
      "EPS Diluted\n",
      "Weighted Average Shs Out\n",
      "Weighted Average Shs Out (Dil)\n",
      "Dividend per Share\n",
      "Gross Margin\n",
      "EBITDA Margin\n",
      "EBIT Margin\n",
      "Profit Margin\n",
      "Free Cash Flow margin\n",
      "EBITDA\n",
      "EBIT\n",
      "Consolidated Income\n",
      "Earnings Before Tax Margin\n",
      "Net Profit Margin\n",
      "Cash and cash equivalents\n",
      "Short-term investments\n",
      "Cash and short-term investments\n",
      "Receivables\n",
      "Inventories\n",
      "Total current assets\n",
      "Property, Plant & Equipment Net\n",
      "Goodwill and Intangible Assets\n",
      "Long-term investments\n",
      "Tax assets\n",
      "Total non-current assets\n",
      "Total assets\n",
      "Payables\n",
      "Short-term debt\n",
      "Total current liabilities\n",
      "Long-term debt\n",
      "Total debt\n",
      "Deferred revenue\n",
      "Tax Liabilities\n",
      "Deposit Liabilities\n",
      "Total non-current liabilities\n",
      "Total liabilities\n",
      "Other comprehensive income\n",
      "Retained earnings (deficit)\n",
      "Total shareholders equity\n",
      "Investments\n",
      "Net Debt\n",
      "Other Assets\n",
      "Other Liabilities\n",
      "Depreciation & Amortization\n",
      "Stock-based compensation\n",
      "Operating Cash Flow\n",
      "Capital Expenditure\n",
      "Acquisitions and disposals\n",
      "Investment purchases and sales\n",
      "Investing Cash flow\n",
      "Issuance (repayment) of debt\n",
      "Issuance (buybacks) of shares\n",
      "Dividend payments\n",
      "Financing Cash Flow\n",
      "Effect of forex changes on cash\n",
      "Net cash flow / Change in cash\n",
      "Free Cash Flow\n",
      "Net Cash/Marketcap\n",
      "priceBookValueRatio\n",
      "priceToBookRatio\n",
      "priceToSalesRatio\n",
      "priceEarningsRatio\n",
      "priceToFreeCashFlowsRatio\n",
      "priceToOperatingCashFlowsRatio\n",
      "priceCashFlowRatio\n",
      "priceEarningsToGrowthRatio\n",
      "priceSalesRatio\n",
      "dividendYield\n",
      "enterpriseValueMultiple\n",
      "priceFairValue\n",
      "ebitperRevenue\n",
      "ebtperEBIT\n",
      "niperEBT\n",
      "grossProfitMargin\n",
      "operatingProfitMargin\n",
      "pretaxProfitMargin\n",
      "netProfitMargin\n",
      "effectiveTaxRate\n",
      "returnOnAssets\n",
      "returnOnEquity\n",
      "returnOnCapitalEmployed\n",
      "nIperEBT\n",
      "eBTperEBIT\n",
      "eBITperRevenue\n",
      "payablesTurnover\n",
      "inventoryTurnover\n",
      "fixedAssetTurnover\n",
      "assetTurnover\n",
      "currentRatio\n",
      "quickRatio\n",
      "cashRatio\n",
      "daysOfSalesOutstanding\n",
      "daysOfInventoryOutstanding\n",
      "operatingCycle\n",
      "daysOfPayablesOutstanding\n",
      "cashConversionCycle\n",
      "debtRatio\n",
      "debtEquityRatio\n",
      "longtermDebtToCapitalization\n",
      "totalDebtToCapitalization\n",
      "interestCoverage\n",
      "cashFlowToDebtRatio\n",
      "companyEquityMultiplier\n",
      "operatingCashFlowPerShare\n",
      "freeCashFlowPerShare\n",
      "cashPerShare\n",
      "payoutRatio\n",
      "operatingCashFlowSalesRatio\n",
      "freeCashFlowOperatingCashFlowRatio\n",
      "cashFlowCoverageRatios\n",
      "shortTermCoverageRatios\n",
      "capitalExpenditureCoverageRatios\n",
      "dividendpaidAndCapexCoverageRatios\n",
      "dividendPayoutRatio\n",
      "Revenue per Share\n",
      "Net Income per Share\n",
      "Operating Cash Flow per Share\n",
      "Free Cash Flow per Share\n",
      "Cash per Share\n",
      "Book Value per Share\n",
      "Tangible Book Value per Share\n",
      "Shareholders Equity per Share\n",
      "Interest Debt per Share\n",
      "Market Cap\n",
      "Enterprise Value\n",
      "PE ratio\n",
      "Price to Sales Ratio\n",
      "POCF ratio\n",
      "PFCF ratio\n",
      "PB ratio\n",
      "PTB ratio\n",
      "EV to Sales\n",
      "Enterprise Value over EBITDA\n",
      "EV to Operating cash flow\n",
      "EV to Free cash flow\n",
      "Earnings Yield\n",
      "Free Cash Flow Yield\n",
      "Debt to Equity\n",
      "Debt to Assets\n",
      "Net Debt to EBITDA\n",
      "Current ratio\n",
      "Interest Coverage\n",
      "Income Quality\n",
      "Dividend Yield\n",
      "Payout Ratio\n",
      "SG&A to Revenue\n",
      "R&D to Revenue\n",
      "Intangibles to Total Assets\n",
      "Capex to Operating Cash Flow\n",
      "Capex to Revenue\n",
      "Capex to Depreciation\n",
      "Stock-based compensation to Revenue\n",
      "Graham Number\n",
      "ROIC\n",
      "Return on Tangible Assets\n",
      "Graham Net-Net\n",
      "Working Capital\n",
      "Tangible Asset Value\n",
      "Net Current Asset Value\n",
      "Invested Capital\n",
      "Average Receivables\n",
      "Average Payables\n",
      "Average Inventory\n",
      "Days Sales Outstanding\n",
      "Days Payables Outstanding\n",
      "Days of Inventory on Hand\n",
      "Receivables Turnover\n",
      "Payables Turnover\n",
      "Inventory Turnover\n",
      "ROE\n",
      "Capex per Share\n",
      "Gross Profit Growth\n",
      "EBIT Growth\n",
      "Operating Income Growth\n",
      "Net Income Growth\n",
      "EPS Growth\n",
      "EPS Diluted Growth\n",
      "Weighted Average Shares Growth\n",
      "Weighted Average Shares Diluted Growth\n",
      "Dividends per Share Growth\n",
      "Operating Cash Flow growth\n",
      "Free Cash Flow growth\n",
      "10Y Revenue Growth (per Share)\n",
      "5Y Revenue Growth (per Share)\n",
      "3Y Revenue Growth (per Share)\n",
      "10Y Operating CF Growth (per Share)\n",
      "5Y Operating CF Growth (per Share)\n",
      "3Y Operating CF Growth (per Share)\n",
      "10Y Net Income Growth (per Share)\n",
      "5Y Net Income Growth (per Share)\n",
      "3Y Net Income Growth (per Share)\n",
      "10Y Shareholders Equity Growth (per Share)\n",
      "5Y Shareholders Equity Growth (per Share)\n",
      "3Y Shareholders Equity Growth (per Share)\n",
      "10Y Dividend per Share Growth (per Share)\n",
      "5Y Dividend per Share Growth (per Share)\n",
      "3Y Dividend per Share Growth (per Share)\n",
      "Receivables growth\n",
      "Inventory Growth\n",
      "Asset Growth\n",
      "Book Value per Share Growth\n",
      "Debt Growth\n",
      "R&D Expense Growth\n",
      "SG&A Expenses Growth\n",
      "Sector\n",
      "2019 PRICE VAR [%]\n",
      "Class\n"
     ]
    }
   ],
   "source": [
    "for col in df.columns:\n",
    "    print(col)"
   ]
  },
  {
   "cell_type": "markdown",
   "metadata": {},
   "source": [
    "There is a large amount of attributes. We will be looking at a few important attributes that help determine the 'Class' classification."
   ]
  },
  {
   "cell_type": "code",
   "execution_count": 106,
   "metadata": {},
   "outputs": [
    {
     "data": {
      "text/html": [
       "<div>\n",
       "<style scoped>\n",
       "    .dataframe tbody tr th:only-of-type {\n",
       "        vertical-align: middle;\n",
       "    }\n",
       "\n",
       "    .dataframe tbody tr th {\n",
       "        vertical-align: top;\n",
       "    }\n",
       "\n",
       "    .dataframe thead th {\n",
       "        text-align: right;\n",
       "    }\n",
       "</style>\n",
       "<table border=\"1\" class=\"dataframe\">\n",
       "  <thead>\n",
       "    <tr style=\"text-align: right;\">\n",
       "      <th></th>\n",
       "      <th>priceCashFlowRatio</th>\n",
       "      <th>priceEarningsRatio</th>\n",
       "      <th>priceEarningsToGrowthRatio</th>\n",
       "      <th>priceBookValueRatio</th>\n",
       "      <th>currentRatio</th>\n",
       "      <th>quickRatio</th>\n",
       "      <th>payoutRatio</th>\n",
       "      <th>Class</th>\n",
       "    </tr>\n",
       "  </thead>\n",
       "  <tbody>\n",
       "    <tr>\n",
       "      <td>count</td>\n",
       "      <td>3136.000000</td>\n",
       "      <td>4140.000000</td>\n",
       "      <td>2734.000000</td>\n",
       "      <td>3.562000e+03</td>\n",
       "      <td>4141.000000</td>\n",
       "      <td>4143.000000</td>\n",
       "      <td>4136.000000</td>\n",
       "      <td>4392.000000</td>\n",
       "    </tr>\n",
       "    <tr>\n",
       "      <td>mean</td>\n",
       "      <td>216.288905</td>\n",
       "      <td>24.042168</td>\n",
       "      <td>47.514074</td>\n",
       "      <td>3.047972e+04</td>\n",
       "      <td>4.271089</td>\n",
       "      <td>4.073948</td>\n",
       "      <td>0.287859</td>\n",
       "      <td>0.693534</td>\n",
       "    </tr>\n",
       "    <tr>\n",
       "      <td>std</td>\n",
       "      <td>9920.994151</td>\n",
       "      <td>105.518285</td>\n",
       "      <td>272.896415</td>\n",
       "      <td>1.817262e+06</td>\n",
       "      <td>57.612570</td>\n",
       "      <td>70.098656</td>\n",
       "      <td>5.088971</td>\n",
       "      <td>0.461078</td>\n",
       "    </tr>\n",
       "    <tr>\n",
       "      <td>min</td>\n",
       "      <td>0.000000</td>\n",
       "      <td>0.000000</td>\n",
       "      <td>0.000000</td>\n",
       "      <td>0.000000e+00</td>\n",
       "      <td>-1.203000</td>\n",
       "      <td>0.000000</td>\n",
       "      <td>-128.000000</td>\n",
       "      <td>0.000000</td>\n",
       "    </tr>\n",
       "    <tr>\n",
       "      <td>25%</td>\n",
       "      <td>5.625695</td>\n",
       "      <td>0.000000</td>\n",
       "      <td>10.439278</td>\n",
       "      <td>9.932500e-01</td>\n",
       "      <td>0.871000</td>\n",
       "      <td>0.571537</td>\n",
       "      <td>0.000000</td>\n",
       "      <td>0.000000</td>\n",
       "    </tr>\n",
       "    <tr>\n",
       "      <td>50%</td>\n",
       "      <td>9.891164</td>\n",
       "      <td>10.761150</td>\n",
       "      <td>16.295242</td>\n",
       "      <td>1.707800e+00</td>\n",
       "      <td>1.662000</td>\n",
       "      <td>1.142864</td>\n",
       "      <td>0.000000</td>\n",
       "      <td>1.000000</td>\n",
       "    </tr>\n",
       "    <tr>\n",
       "      <td>75%</td>\n",
       "      <td>17.046144</td>\n",
       "      <td>20.462250</td>\n",
       "      <td>28.253637</td>\n",
       "      <td>3.471425e+00</td>\n",
       "      <td>3.016000</td>\n",
       "      <td>2.298005</td>\n",
       "      <td>0.320250</td>\n",
       "      <td>1.000000</td>\n",
       "    </tr>\n",
       "    <tr>\n",
       "      <td>max</td>\n",
       "      <td>554582.170643</td>\n",
       "      <td>3842.000000</td>\n",
       "      <td>9704.250000</td>\n",
       "      <td>1.084587e+08</td>\n",
       "      <td>3192.192308</td>\n",
       "      <td>3180.813708</td>\n",
       "      <td>212.800000</td>\n",
       "      <td>1.000000</td>\n",
       "    </tr>\n",
       "  </tbody>\n",
       "</table>\n",
       "</div>"
      ],
      "text/plain": [
       "       priceCashFlowRatio  priceEarningsRatio  priceEarningsToGrowthRatio  \\\n",
       "count         3136.000000         4140.000000                 2734.000000   \n",
       "mean           216.288905           24.042168                   47.514074   \n",
       "std           9920.994151          105.518285                  272.896415   \n",
       "min              0.000000            0.000000                    0.000000   \n",
       "25%              5.625695            0.000000                   10.439278   \n",
       "50%              9.891164           10.761150                   16.295242   \n",
       "75%             17.046144           20.462250                   28.253637   \n",
       "max         554582.170643         3842.000000                 9704.250000   \n",
       "\n",
       "       priceBookValueRatio  currentRatio   quickRatio  payoutRatio  \\\n",
       "count         3.562000e+03   4141.000000  4143.000000  4136.000000   \n",
       "mean          3.047972e+04      4.271089     4.073948     0.287859   \n",
       "std           1.817262e+06     57.612570    70.098656     5.088971   \n",
       "min           0.000000e+00     -1.203000     0.000000  -128.000000   \n",
       "25%           9.932500e-01      0.871000     0.571537     0.000000   \n",
       "50%           1.707800e+00      1.662000     1.142864     0.000000   \n",
       "75%           3.471425e+00      3.016000     2.298005     0.320250   \n",
       "max           1.084587e+08   3192.192308  3180.813708   212.800000   \n",
       "\n",
       "             Class  \n",
       "count  4392.000000  \n",
       "mean      0.693534  \n",
       "std       0.461078  \n",
       "min       0.000000  \n",
       "25%       0.000000  \n",
       "50%       1.000000  \n",
       "75%       1.000000  \n",
       "max       1.000000  "
      ]
     },
     "execution_count": 106,
     "metadata": {},
     "output_type": "execute_result"
    }
   ],
   "source": [
    "indicators = ['priceCashFlowRatio',\n",
    "              'priceEarningsRatio',\n",
    "              'priceEarningsToGrowthRatio',\n",
    "              'priceBookValueRatio',\n",
    "              'currentRatio',\n",
    "              'quickRatio',\n",
    "              'payoutRatio',\n",
    "              'Class']\n",
    "\n",
    "df = df[indicators]\n",
    "df.describe()"
   ]
  },
  {
   "cell_type": "code",
   "execution_count": 107,
   "metadata": {},
   "outputs": [
    {
     "data": {
      "text/plain": [
       "priceCashFlowRatio            float64\n",
       "priceEarningsRatio            float64\n",
       "priceEarningsToGrowthRatio    float64\n",
       "priceBookValueRatio           float64\n",
       "currentRatio                  float64\n",
       "quickRatio                    float64\n",
       "payoutRatio                   float64\n",
       "Class                           int64\n",
       "dtype: object"
      ]
     },
     "execution_count": 107,
     "metadata": {},
     "output_type": "execute_result"
    }
   ],
   "source": [
    "df.dtypes"
   ]
  },
  {
   "cell_type": "code",
   "execution_count": 108,
   "metadata": {},
   "outputs": [
    {
     "data": {
      "text/plain": [
       "priceCashFlowRatio            1256\n",
       "priceEarningsRatio             252\n",
       "priceEarningsToGrowthRatio    1658\n",
       "priceBookValueRatio            830\n",
       "currentRatio                   251\n",
       "quickRatio                     249\n",
       "payoutRatio                    256\n",
       "Class                            0\n",
       "dtype: int64"
      ]
     },
     "execution_count": 108,
     "metadata": {},
     "output_type": "execute_result"
    }
   ],
   "source": [
    "df.isna().sum()"
   ]
  },
  {
   "cell_type": "markdown",
   "metadata": {},
   "source": [
    "First we have to deal with NaN data in the dataset. We will drop the rows that do not have all the values we need."
   ]
  },
  {
   "cell_type": "code",
   "execution_count": 109,
   "metadata": {},
   "outputs": [
    {
     "data": {
      "text/plain": [
       "priceCashFlowRatio            2217\n",
       "priceEarningsRatio            2217\n",
       "priceEarningsToGrowthRatio    2217\n",
       "priceBookValueRatio           2217\n",
       "currentRatio                  2217\n",
       "quickRatio                    2217\n",
       "payoutRatio                   2217\n",
       "Class                         2217\n",
       "dtype: int64"
      ]
     },
     "execution_count": 109,
     "metadata": {},
     "output_type": "execute_result"
    }
   ],
   "source": [
    "df = df.dropna()\n",
    "df.count()"
   ]
  },
  {
   "cell_type": "code",
   "execution_count": 111,
   "metadata": {},
   "outputs": [
    {
     "data": {
      "text/html": [
       "<div>\n",
       "<style scoped>\n",
       "    .dataframe tbody tr th:only-of-type {\n",
       "        vertical-align: middle;\n",
       "    }\n",
       "\n",
       "    .dataframe tbody tr th {\n",
       "        vertical-align: top;\n",
       "    }\n",
       "\n",
       "    .dataframe thead th {\n",
       "        text-align: right;\n",
       "    }\n",
       "</style>\n",
       "<table border=\"1\" class=\"dataframe\">\n",
       "  <thead>\n",
       "    <tr style=\"text-align: right;\">\n",
       "      <th></th>\n",
       "      <th>priceCashFlowRatio</th>\n",
       "      <th>priceEarningsRatio</th>\n",
       "      <th>priceEarningsToGrowthRatio</th>\n",
       "      <th>priceBookValueRatio</th>\n",
       "      <th>currentRatio</th>\n",
       "      <th>quickRatio</th>\n",
       "      <th>payoutRatio</th>\n",
       "      <th>Class</th>\n",
       "    </tr>\n",
       "  </thead>\n",
       "  <tbody>\n",
       "    <tr>\n",
       "      <td>count</td>\n",
       "      <td>1201.000000</td>\n",
       "      <td>1201.000000</td>\n",
       "      <td>1201.000000</td>\n",
       "      <td>1201.000000</td>\n",
       "      <td>1201.000000</td>\n",
       "      <td>1201.000000</td>\n",
       "      <td>1201.000000</td>\n",
       "      <td>1201.0</td>\n",
       "    </tr>\n",
       "    <tr>\n",
       "      <td>mean</td>\n",
       "      <td>10.460731</td>\n",
       "      <td>16.746056</td>\n",
       "      <td>16.537492</td>\n",
       "      <td>2.064655</td>\n",
       "      <td>1.351343</td>\n",
       "      <td>0.877048</td>\n",
       "      <td>0.302907</td>\n",
       "      <td>1.0</td>\n",
       "    </tr>\n",
       "    <tr>\n",
       "      <td>std</td>\n",
       "      <td>5.522658</td>\n",
       "      <td>9.051715</td>\n",
       "      <td>8.929073</td>\n",
       "      <td>1.392249</td>\n",
       "      <td>1.114096</td>\n",
       "      <td>0.780241</td>\n",
       "      <td>0.302167</td>\n",
       "      <td>0.0</td>\n",
       "    </tr>\n",
       "    <tr>\n",
       "      <td>min</td>\n",
       "      <td>0.023805</td>\n",
       "      <td>0.000000</td>\n",
       "      <td>0.175692</td>\n",
       "      <td>0.000000</td>\n",
       "      <td>0.000000</td>\n",
       "      <td>0.000849</td>\n",
       "      <td>-0.154000</td>\n",
       "      <td>1.0</td>\n",
       "    </tr>\n",
       "    <tr>\n",
       "      <td>25%</td>\n",
       "      <td>6.656189</td>\n",
       "      <td>10.796600</td>\n",
       "      <td>10.611268</td>\n",
       "      <td>1.111800</td>\n",
       "      <td>0.341000</td>\n",
       "      <td>0.138294</td>\n",
       "      <td>0.000000</td>\n",
       "      <td>1.0</td>\n",
       "    </tr>\n",
       "    <tr>\n",
       "      <td>50%</td>\n",
       "      <td>9.361342</td>\n",
       "      <td>14.388700</td>\n",
       "      <td>14.311431</td>\n",
       "      <td>1.653000</td>\n",
       "      <td>1.254000</td>\n",
       "      <td>0.758725</td>\n",
       "      <td>0.242000</td>\n",
       "      <td>1.0</td>\n",
       "    </tr>\n",
       "    <tr>\n",
       "      <td>75%</td>\n",
       "      <td>13.339827</td>\n",
       "      <td>20.698900</td>\n",
       "      <td>20.402042</td>\n",
       "      <td>2.742300</td>\n",
       "      <td>1.986000</td>\n",
       "      <td>1.300709</td>\n",
       "      <td>0.450000</td>\n",
       "      <td>1.0</td>\n",
       "    </tr>\n",
       "    <tr>\n",
       "      <td>max</td>\n",
       "      <td>30.933250</td>\n",
       "      <td>53.089100</td>\n",
       "      <td>53.141190</td>\n",
       "      <td>6.814700</td>\n",
       "      <td>5.149815</td>\n",
       "      <td>3.660661</td>\n",
       "      <td>1.299000</td>\n",
       "      <td>1.0</td>\n",
       "    </tr>\n",
       "  </tbody>\n",
       "</table>\n",
       "</div>"
      ],
      "text/plain": [
       "       priceCashFlowRatio  priceEarningsRatio  priceEarningsToGrowthRatio  \\\n",
       "count         1201.000000         1201.000000                 1201.000000   \n",
       "mean            10.460731           16.746056                   16.537492   \n",
       "std              5.522658            9.051715                    8.929073   \n",
       "min              0.023805            0.000000                    0.175692   \n",
       "25%              6.656189           10.796600                   10.611268   \n",
       "50%              9.361342           14.388700                   14.311431   \n",
       "75%             13.339827           20.698900                   20.402042   \n",
       "max             30.933250           53.089100                   53.141190   \n",
       "\n",
       "       priceBookValueRatio  currentRatio   quickRatio  payoutRatio   Class  \n",
       "count          1201.000000   1201.000000  1201.000000  1201.000000  1201.0  \n",
       "mean              2.064655      1.351343     0.877048     0.302907     1.0  \n",
       "std               1.392249      1.114096     0.780241     0.302167     0.0  \n",
       "min               0.000000      0.000000     0.000849    -0.154000     1.0  \n",
       "25%               1.111800      0.341000     0.138294     0.000000     1.0  \n",
       "50%               1.653000      1.254000     0.758725     0.242000     1.0  \n",
       "75%               2.742300      1.986000     1.300709     0.450000     1.0  \n",
       "max               6.814700      5.149815     3.660661     1.299000     1.0  "
      ]
     },
     "execution_count": 111,
     "metadata": {},
     "output_type": "execute_result"
    }
   ],
   "source": [
    "q1 = df.quantile(0.25)\n",
    "q3 = df.quantile(0.75)\n",
    "iqr = q3-q1\n",
    "df = df[~((df < (q1 - 1.5*iqr)) |(df > (q3 + 1.5*iqr))).any(axis=1)]\n",
    "\n",
    "df.describe()"
   ]
  },
  {
   "cell_type": "markdown",
   "metadata": {},
   "source": [
    "There are quite a number of outliers. To see what is happening, we have to look at the distributions."
   ]
  },
  {
   "cell_type": "markdown",
   "metadata": {},
   "source": [
    "# Dataset 2"
   ]
  },
  {
   "cell_type": "markdown",
   "metadata": {},
   "source": [
    "This dataset includes daily stock market data for Aaple."
   ]
  },
  {
   "cell_type": "code",
   "execution_count": 58,
   "metadata": {},
   "outputs": [
    {
     "data": {
      "text/html": [
       "<div>\n",
       "<style scoped>\n",
       "    .dataframe tbody tr th:only-of-type {\n",
       "        vertical-align: middle;\n",
       "    }\n",
       "\n",
       "    .dataframe tbody tr th {\n",
       "        vertical-align: top;\n",
       "    }\n",
       "\n",
       "    .dataframe thead th {\n",
       "        text-align: right;\n",
       "    }\n",
       "</style>\n",
       "<table border=\"1\" class=\"dataframe\">\n",
       "  <thead>\n",
       "    <tr style=\"text-align: right;\">\n",
       "      <th></th>\n",
       "      <th>Date</th>\n",
       "      <th>Open</th>\n",
       "      <th>High</th>\n",
       "      <th>Low</th>\n",
       "      <th>Close</th>\n",
       "      <th>Volume</th>\n",
       "      <th>OpenInt</th>\n",
       "    </tr>\n",
       "  </thead>\n",
       "  <tbody>\n",
       "    <tr>\n",
       "      <td>0</td>\n",
       "      <td>1984-09-07</td>\n",
       "      <td>0.42388</td>\n",
       "      <td>0.42902</td>\n",
       "      <td>0.41874</td>\n",
       "      <td>0.42388</td>\n",
       "      <td>23220030</td>\n",
       "      <td>0</td>\n",
       "    </tr>\n",
       "    <tr>\n",
       "      <td>1</td>\n",
       "      <td>1984-09-10</td>\n",
       "      <td>0.42388</td>\n",
       "      <td>0.42516</td>\n",
       "      <td>0.41366</td>\n",
       "      <td>0.42134</td>\n",
       "      <td>18022532</td>\n",
       "      <td>0</td>\n",
       "    </tr>\n",
       "    <tr>\n",
       "      <td>2</td>\n",
       "      <td>1984-09-11</td>\n",
       "      <td>0.42516</td>\n",
       "      <td>0.43668</td>\n",
       "      <td>0.42516</td>\n",
       "      <td>0.42902</td>\n",
       "      <td>42498199</td>\n",
       "      <td>0</td>\n",
       "    </tr>\n",
       "    <tr>\n",
       "      <td>3</td>\n",
       "      <td>1984-09-12</td>\n",
       "      <td>0.42902</td>\n",
       "      <td>0.43157</td>\n",
       "      <td>0.41618</td>\n",
       "      <td>0.41618</td>\n",
       "      <td>37125801</td>\n",
       "      <td>0</td>\n",
       "    </tr>\n",
       "    <tr>\n",
       "      <td>4</td>\n",
       "      <td>1984-09-13</td>\n",
       "      <td>0.43927</td>\n",
       "      <td>0.44052</td>\n",
       "      <td>0.43927</td>\n",
       "      <td>0.43927</td>\n",
       "      <td>57822062</td>\n",
       "      <td>0</td>\n",
       "    </tr>\n",
       "  </tbody>\n",
       "</table>\n",
       "</div>"
      ],
      "text/plain": [
       "         Date     Open     High      Low    Close    Volume  OpenInt\n",
       "0  1984-09-07  0.42388  0.42902  0.41874  0.42388  23220030        0\n",
       "1  1984-09-10  0.42388  0.42516  0.41366  0.42134  18022532        0\n",
       "2  1984-09-11  0.42516  0.43668  0.42516  0.42902  42498199        0\n",
       "3  1984-09-12  0.42902  0.43157  0.41618  0.41618  37125801        0\n",
       "4  1984-09-13  0.43927  0.44052  0.43927  0.43927  57822062        0"
      ]
     },
     "execution_count": 58,
     "metadata": {},
     "output_type": "execute_result"
    }
   ],
   "source": [
    "df2 = pd.read_csv(\"rawdata/aapl.us.txt\")\n",
    "df2.head()"
   ]
  },
  {
   "cell_type": "code",
   "execution_count": 59,
   "metadata": {},
   "outputs": [
    {
     "data": {
      "text/html": [
       "<div>\n",
       "<style scoped>\n",
       "    .dataframe tbody tr th:only-of-type {\n",
       "        vertical-align: middle;\n",
       "    }\n",
       "\n",
       "    .dataframe tbody tr th {\n",
       "        vertical-align: top;\n",
       "    }\n",
       "\n",
       "    .dataframe thead th {\n",
       "        text-align: right;\n",
       "    }\n",
       "</style>\n",
       "<table border=\"1\" class=\"dataframe\">\n",
       "  <thead>\n",
       "    <tr style=\"text-align: right;\">\n",
       "      <th></th>\n",
       "      <th>Open</th>\n",
       "      <th>High</th>\n",
       "      <th>Low</th>\n",
       "      <th>Close</th>\n",
       "      <th>Volume</th>\n",
       "      <th>OpenInt</th>\n",
       "    </tr>\n",
       "  </thead>\n",
       "  <tbody>\n",
       "    <tr>\n",
       "      <td>count</td>\n",
       "      <td>8364.000000</td>\n",
       "      <td>8364.000000</td>\n",
       "      <td>8364.000000</td>\n",
       "      <td>8364.000000</td>\n",
       "      <td>8.364000e+03</td>\n",
       "      <td>8364.0</td>\n",
       "    </tr>\n",
       "    <tr>\n",
       "      <td>mean</td>\n",
       "      <td>22.284350</td>\n",
       "      <td>22.495867</td>\n",
       "      <td>22.054244</td>\n",
       "      <td>22.281018</td>\n",
       "      <td>1.066416e+08</td>\n",
       "      <td>0.0</td>\n",
       "    </tr>\n",
       "    <tr>\n",
       "      <td>std</td>\n",
       "      <td>37.763402</td>\n",
       "      <td>38.057733</td>\n",
       "      <td>37.447432</td>\n",
       "      <td>37.764469</td>\n",
       "      <td>9.935187e+07</td>\n",
       "      <td>0.0</td>\n",
       "    </tr>\n",
       "    <tr>\n",
       "      <td>min</td>\n",
       "      <td>0.233050</td>\n",
       "      <td>0.235640</td>\n",
       "      <td>0.230510</td>\n",
       "      <td>0.230510</td>\n",
       "      <td>0.000000e+00</td>\n",
       "      <td>0.0</td>\n",
       "    </tr>\n",
       "    <tr>\n",
       "      <td>25%</td>\n",
       "      <td>1.137100</td>\n",
       "      <td>1.164200</td>\n",
       "      <td>1.112800</td>\n",
       "      <td>1.137100</td>\n",
       "      <td>4.384365e+07</td>\n",
       "      <td>0.0</td>\n",
       "    </tr>\n",
       "    <tr>\n",
       "      <td>50%</td>\n",
       "      <td>1.632800</td>\n",
       "      <td>1.663400</td>\n",
       "      <td>1.600600</td>\n",
       "      <td>1.628250</td>\n",
       "      <td>7.481383e+07</td>\n",
       "      <td>0.0</td>\n",
       "    </tr>\n",
       "    <tr>\n",
       "      <td>75%</td>\n",
       "      <td>23.739000</td>\n",
       "      <td>23.930500</td>\n",
       "      <td>23.335750</td>\n",
       "      <td>23.694500</td>\n",
       "      <td>1.320534e+08</td>\n",
       "      <td>0.0</td>\n",
       "    </tr>\n",
       "    <tr>\n",
       "      <td>max</td>\n",
       "      <td>175.110000</td>\n",
       "      <td>175.610000</td>\n",
       "      <td>174.270000</td>\n",
       "      <td>175.610000</td>\n",
       "      <td>2.069770e+09</td>\n",
       "      <td>0.0</td>\n",
       "    </tr>\n",
       "  </tbody>\n",
       "</table>\n",
       "</div>"
      ],
      "text/plain": [
       "              Open         High          Low        Close        Volume  \\\n",
       "count  8364.000000  8364.000000  8364.000000  8364.000000  8.364000e+03   \n",
       "mean     22.284350    22.495867    22.054244    22.281018  1.066416e+08   \n",
       "std      37.763402    38.057733    37.447432    37.764469  9.935187e+07   \n",
       "min       0.233050     0.235640     0.230510     0.230510  0.000000e+00   \n",
       "25%       1.137100     1.164200     1.112800     1.137100  4.384365e+07   \n",
       "50%       1.632800     1.663400     1.600600     1.628250  7.481383e+07   \n",
       "75%      23.739000    23.930500    23.335750    23.694500  1.320534e+08   \n",
       "max     175.110000   175.610000   174.270000   175.610000  2.069770e+09   \n",
       "\n",
       "       OpenInt  \n",
       "count   8364.0  \n",
       "mean       0.0  \n",
       "std        0.0  \n",
       "min        0.0  \n",
       "25%        0.0  \n",
       "50%        0.0  \n",
       "75%        0.0  \n",
       "max        0.0  "
      ]
     },
     "execution_count": 59,
     "metadata": {},
     "output_type": "execute_result"
    }
   ],
   "source": [
    "df2.describe()"
   ]
  },
  {
   "cell_type": "markdown",
   "metadata": {},
   "source": [
    "First we see that the count is consistent across all columns. This means there are no NaN values we have to worry about. We can see that the OpenInt column is useless and we want the Date column to be our index since it is a time series. We also see that for Open, High, Low, and Close, there is a large max outlier. We will have to look at some distributions to see what is happening."
   ]
  },
  {
   "cell_type": "code",
   "execution_count": 60,
   "metadata": {},
   "outputs": [],
   "source": [
    "df2.set_index(\"Date\", inplace=True)\n",
    "df2.drop(columns=['OpenInt'], inplace=True)"
   ]
  },
  {
   "cell_type": "code",
   "execution_count": 62,
   "metadata": {},
   "outputs": [
    {
     "data": {
      "text/plain": [
       "<matplotlib.axes._subplots.AxesSubplot at 0x1a24cc4cd0>"
      ]
     },
     "execution_count": 62,
     "metadata": {},
     "output_type": "execute_result"
    },
    {
     "data": {
      "image/png": "[encoded data removed]",
      "text/plain": [
       "<Figure size 432x288 with 1 Axes>"
      ]
     },
     "metadata": {
      "needs_background": "light"
     },
     "output_type": "display_data"
    }
   ],
   "source": [
    "#df2.cumsum().plot(y=\"Open\")\n",
    "df2.plot(y=\"Open\")"
   ]
  },
  {
   "cell_type": "code",
   "execution_count": 63,
   "metadata": {},
   "outputs": [
    {
     "data": {
      "text/plain": [
       "array([[<matplotlib.axes._subplots.AxesSubplot object at 0x1a26c9bf10>,\n",
       "        <matplotlib.axes._subplots.AxesSubplot object at 0x1a26d8cb90>],\n",
       "       [<matplotlib.axes._subplots.AxesSubplot object at 0x1a27143f10>,\n",
       "        <matplotlib.axes._subplots.AxesSubplot object at 0x1a272b7bd0>],\n",
       "       [<matplotlib.axes._subplots.AxesSubplot object at 0x1a272f3f50>,\n",
       "        <matplotlib.axes._subplots.AxesSubplot object at 0x1a27325c10>]],\n",
       "      dtype=object)"
      ]
     },
     "execution_count": 63,
     "metadata": {},
     "output_type": "execute_result"
    },
    {
     "data": {
      "image/png": "[encoded data removed]",
      "text/plain": [
       "<Figure size 432x288 with 6 Axes>"
      ]
     },
     "metadata": {
      "needs_background": "light"
     },
     "output_type": "display_data"
    }
   ],
   "source": [
    "df2.hist()"
   ]
  },
  {
   "cell_type": "code",
   "execution_count": 64,
   "metadata": {},
   "outputs": [
    {
     "data": {
      "text/plain": [
       "<matplotlib.axes._subplots.AxesSubplot at 0x1a24a7b390>"
      ]
     },
     "execution_count": 64,
     "metadata": {},
     "output_type": "execute_result"
    },
    {
     "data": {
      "image/png": "[encoded data removed]",
      "text/plain": [
       "<Figure size 432x288 with 1 Axes>"
      ]
     },
     "metadata": {
      "needs_background": "light"
     },
     "output_type": "display_data"
    }
   ],
   "source": [
    "df2.boxplot(column=[\"Open\", \"High\", \"Low\", \"Close\"])"
   ]
  },
  {
   "cell_type": "code",
   "execution_count": 65,
   "metadata": {},
   "outputs": [
    {
     "data": {
      "text/plain": [
       "<matplotlib.axes._subplots.AxesSubplot at 0x1a24baab90>"
      ]
     },
     "execution_count": 65,
     "metadata": {},
     "output_type": "execute_result"
    },
    {
     "data": {
      "image/png": "[encoded data removed]",
      "text/plain": [
       "<Figure size 432x288 with 1 Axes>"
      ]
     },
     "metadata": {
      "needs_background": "light"
     },
     "output_type": "display_data"
    }
   ],
   "source": [
    "df2.plot(y=\"Volume\")"
   ]
  },
  {
   "cell_type": "code",
   "execution_count": 66,
   "metadata": {},
   "outputs": [
    {
     "data": {
      "text/plain": [
       "<matplotlib.axes._subplots.AxesSubplot at 0x1a249dafd0>"
      ]
     },
     "execution_count": 66,
     "metadata": {},
     "output_type": "execute_result"
    },
    {
     "data": {
      "image/png": "[encoded data removed]",
      "text/plain": [
       "<Figure size 432x288 with 1 Axes>"
      ]
     },
     "metadata": {
      "needs_background": "light"
     },
     "output_type": "display_data"
    }
   ],
   "source": [
    "df2.boxplot(column=\"Volume\")"
   ]
  },
  {
   "cell_type": "code",
   "execution_count": 67,
   "metadata": {},
   "outputs": [
    {
     "data": {
      "text/plain": [
       "<matplotlib.collections.PathCollection at 0x1a2664ce10>"
      ]
     },
     "execution_count": 67,
     "metadata": {},
     "output_type": "execute_result"
    },
    {
     "data": {
      "image/png": "[encoded data removed]",
      "text/plain": [
       "<Figure size 432x288 with 1 Axes>"
      ]
     },
     "metadata": {
      "needs_background": "light"
     },
     "output_type": "display_data"
    }
   ],
   "source": [
    "plt.scatter(x=df2['Open'], y=df2['Volume'])"
   ]
  },
  {
   "cell_type": "markdown",
   "metadata": {},
   "source": [
    "## Analysis\n",
    "From these findings, we see that there is a positive exponential trend of Apple's stock prices over the years. Much of the data is skewed towards the low stock prices before around the 2000s. Many of the outliers according to the boxplot are the largest, most recent data. This poses a problem as we want to predict prices in more recent times. To fix this, we will throw out the data before 2007 (the year of the iPhone creation) to get a better representation of modern Apple trends.\n",
    "\n",
    "Interestingly, there also seems to be a negative exponential trend when comparing the Open price in relation to the the Volume. We can use the Volume for prediction as well."
   ]
  },
  {
   "cell_type": "code",
   "execution_count": 68,
   "metadata": {},
   "outputs": [
    {
     "data": {
      "text/html": [
       "<div>\n",
       "<style scoped>\n",
       "    .dataframe tbody tr th:only-of-type {\n",
       "        vertical-align: middle;\n",
       "    }\n",
       "\n",
       "    .dataframe tbody tr th {\n",
       "        vertical-align: top;\n",
       "    }\n",
       "\n",
       "    .dataframe thead th {\n",
       "        text-align: right;\n",
       "    }\n",
       "</style>\n",
       "<table border=\"1\" class=\"dataframe\">\n",
       "  <thead>\n",
       "    <tr style=\"text-align: right;\">\n",
       "      <th></th>\n",
       "      <th>Open</th>\n",
       "      <th>High</th>\n",
       "      <th>Low</th>\n",
       "      <th>Close</th>\n",
       "      <th>Volume</th>\n",
       "    </tr>\n",
       "    <tr>\n",
       "      <th>Date</th>\n",
       "      <th></th>\n",
       "      <th></th>\n",
       "      <th></th>\n",
       "      <th></th>\n",
       "      <th></th>\n",
       "    </tr>\n",
       "  </thead>\n",
       "  <tbody>\n",
       "    <tr>\n",
       "      <td>2007-01-03</td>\n",
       "      <td>11.049</td>\n",
       "      <td>11.087</td>\n",
       "      <td>10.486</td>\n",
       "      <td>10.731</td>\n",
       "      <td>345302870</td>\n",
       "    </tr>\n",
       "    <tr>\n",
       "      <td>2007-01-04</td>\n",
       "      <td>10.780</td>\n",
       "      <td>11.007</td>\n",
       "      <td>10.733</td>\n",
       "      <td>10.969</td>\n",
       "      <td>236252357</td>\n",
       "    </tr>\n",
       "    <tr>\n",
       "      <td>2007-01-05</td>\n",
       "      <td>10.992</td>\n",
       "      <td>11.038</td>\n",
       "      <td>10.807</td>\n",
       "      <td>10.893</td>\n",
       "      <td>232773093</td>\n",
       "    </tr>\n",
       "    <tr>\n",
       "      <td>2007-01-08</td>\n",
       "      <td>11.011</td>\n",
       "      <td>11.081</td>\n",
       "      <td>10.922</td>\n",
       "      <td>10.946</td>\n",
       "      <td>222149027</td>\n",
       "    </tr>\n",
       "    <tr>\n",
       "      <td>2007-01-09</td>\n",
       "      <td>11.075</td>\n",
       "      <td>11.907</td>\n",
       "      <td>10.906</td>\n",
       "      <td>11.854</td>\n",
       "      <td>933759387</td>\n",
       "    </tr>\n",
       "  </tbody>\n",
       "</table>\n",
       "</div>"
      ],
      "text/plain": [
       "              Open    High     Low   Close     Volume\n",
       "Date                                                 \n",
       "2007-01-03  11.049  11.087  10.486  10.731  345302870\n",
       "2007-01-04  10.780  11.007  10.733  10.969  236252357\n",
       "2007-01-05  10.992  11.038  10.807  10.893  232773093\n",
       "2007-01-08  11.011  11.081  10.922  10.946  222149027\n",
       "2007-01-09  11.075  11.907  10.906  11.854  933759387"
      ]
     },
     "execution_count": 68,
     "metadata": {},
     "output_type": "execute_result"
    }
   ],
   "source": [
    "toDrop = []\n",
    "for index, row in df2.iterrows():\n",
    "    if index[:4] == '2007':\n",
    "        break\n",
    "    toDrop.append(index)\n",
    "\n",
    "df2.drop(toDrop, inplace=True)\n",
    "df2.head()"
   ]
  },
  {
   "cell_type": "code",
   "execution_count": 69,
   "metadata": {},
   "outputs": [
    {
     "data": {
      "text/html": [
       "<div>\n",
       "<style scoped>\n",
       "    .dataframe tbody tr th:only-of-type {\n",
       "        vertical-align: middle;\n",
       "    }\n",
       "\n",
       "    .dataframe tbody tr th {\n",
       "        vertical-align: top;\n",
       "    }\n",
       "\n",
       "    .dataframe thead th {\n",
       "        text-align: right;\n",
       "    }\n",
       "</style>\n",
       "<table border=\"1\" class=\"dataframe\">\n",
       "  <thead>\n",
       "    <tr style=\"text-align: right;\">\n",
       "      <th></th>\n",
       "      <th>Open</th>\n",
       "      <th>High</th>\n",
       "      <th>Low</th>\n",
       "      <th>Close</th>\n",
       "      <th>Volume</th>\n",
       "    </tr>\n",
       "  </thead>\n",
       "  <tbody>\n",
       "    <tr>\n",
       "      <td>count</td>\n",
       "      <td>2736.000000</td>\n",
       "      <td>2736.000000</td>\n",
       "      <td>2736.000000</td>\n",
       "      <td>2736.000000</td>\n",
       "      <td>2.736000e+03</td>\n",
       "    </tr>\n",
       "    <tr>\n",
       "      <td>mean</td>\n",
       "      <td>64.313843</td>\n",
       "      <td>64.891892</td>\n",
       "      <td>63.681515</td>\n",
       "      <td>64.305140</td>\n",
       "      <td>1.370447e+08</td>\n",
       "    </tr>\n",
       "    <tr>\n",
       "      <td>std</td>\n",
       "      <td>41.547584</td>\n",
       "      <td>41.811585</td>\n",
       "      <td>41.277361</td>\n",
       "      <td>41.558909</td>\n",
       "      <td>1.114389e+08</td>\n",
       "    </tr>\n",
       "    <tr>\n",
       "      <td>min</td>\n",
       "      <td>10.180000</td>\n",
       "      <td>10.500000</td>\n",
       "      <td>10.014000</td>\n",
       "      <td>10.014000</td>\n",
       "      <td>0.000000e+00</td>\n",
       "    </tr>\n",
       "    <tr>\n",
       "      <td>25%</td>\n",
       "      <td>24.310000</td>\n",
       "      <td>24.517000</td>\n",
       "      <td>23.975250</td>\n",
       "      <td>24.310000</td>\n",
       "      <td>5.373976e+07</td>\n",
       "    </tr>\n",
       "    <tr>\n",
       "      <td>50%</td>\n",
       "      <td>58.297000</td>\n",
       "      <td>58.787500</td>\n",
       "      <td>57.528000</td>\n",
       "      <td>58.204000</td>\n",
       "      <td>1.085332e+08</td>\n",
       "    </tr>\n",
       "    <tr>\n",
       "      <td>75%</td>\n",
       "      <td>96.659250</td>\n",
       "      <td>97.379500</td>\n",
       "      <td>95.792250</td>\n",
       "      <td>96.647250</td>\n",
       "      <td>1.834531e+08</td>\n",
       "    </tr>\n",
       "    <tr>\n",
       "      <td>max</td>\n",
       "      <td>175.110000</td>\n",
       "      <td>175.610000</td>\n",
       "      <td>174.270000</td>\n",
       "      <td>175.610000</td>\n",
       "      <td>9.396953e+08</td>\n",
       "    </tr>\n",
       "  </tbody>\n",
       "</table>\n",
       "</div>"
      ],
      "text/plain": [
       "              Open         High          Low        Close        Volume\n",
       "count  2736.000000  2736.000000  2736.000000  2736.000000  2.736000e+03\n",
       "mean     64.313843    64.891892    63.681515    64.305140  1.370447e+08\n",
       "std      41.547584    41.811585    41.277361    41.558909  1.114389e+08\n",
       "min      10.180000    10.500000    10.014000    10.014000  0.000000e+00\n",
       "25%      24.310000    24.517000    23.975250    24.310000  5.373976e+07\n",
       "50%      58.297000    58.787500    57.528000    58.204000  1.085332e+08\n",
       "75%      96.659250    97.379500    95.792250    96.647250  1.834531e+08\n",
       "max     175.110000   175.610000   174.270000   175.610000  9.396953e+08"
      ]
     },
     "execution_count": 69,
     "metadata": {},
     "output_type": "execute_result"
    }
   ],
   "source": [
    "df2.describe()"
   ]
  },
  {
   "cell_type": "code",
   "execution_count": 71,
   "metadata": {},
   "outputs": [
    {
     "data": {
      "text/plain": [
       "<matplotlib.axes._subplots.AxesSubplot at 0x1a2668ed90>"
      ]
     },
     "execution_count": 71,
     "metadata": {},
     "output_type": "execute_result"
    },
    {
     "data": {
      "image/png": "[encoded data removed]",
      "text/plain": [
       "<Figure size 432x288 with 1 Axes>"
      ]
     },
     "metadata": {
      "needs_background": "light"
     },
     "output_type": "display_data"
    }
   ],
   "source": [
    "df2.plot(y=\"Open\")"
   ]
  },
  {
   "cell_type": "code",
   "execution_count": 75,
   "metadata": {},
   "outputs": [
    {
     "data": {
      "text/plain": [
       "array([[<matplotlib.axes._subplots.AxesSubplot object at 0x122eb8c90>,\n",
       "        <matplotlib.axes._subplots.AxesSubplot object at 0x1234abb10>],\n",
       "       [<matplotlib.axes._subplots.AxesSubplot object at 0x123e25e50>,\n",
       "        <matplotlib.axes._subplots.AxesSubplot object at 0x124377b50>],\n",
       "       [<matplotlib.axes._subplots.AxesSubplot object at 0x1243b7e90>,\n",
       "        <matplotlib.axes._subplots.AxesSubplot object at 0x1243ecb90>]],\n",
       "      dtype=object)"
      ]
     },
     "execution_count": 75,
     "metadata": {},
     "output_type": "execute_result"
    },
    {
     "data": {
      "image/png": "[encoded data removed]",
      "text/plain": [
       "<Figure size 432x288 with 6 Axes>"
      ]
     },
     "metadata": {
      "needs_background": "light"
     },
     "output_type": "display_data"
    }
   ],
   "source": [
    "df2.hist()"
   ]
  },
  {
   "cell_type": "code",
   "execution_count": 76,
   "metadata": {},
   "outputs": [
    {
     "data": {
      "text/plain": [
       "<matplotlib.axes._subplots.AxesSubplot at 0x1244a9b10>"
      ]
     },
     "execution_count": 76,
     "metadata": {},
     "output_type": "execute_result"
    },
    {
     "data": {
      "image/png": "[encoded data removed]",
      "text/plain": [
       "<Figure size 432x288 with 1 Axes>"
      ]
     },
     "metadata": {
      "needs_background": "light"
     },
     "output_type": "display_data"
    }
   ],
   "source": [
    "df2.boxplot(column=[\"Open\", \"High\", \"Low\", \"Close\"])"
   ]
  },
  {
   "cell_type": "code",
   "execution_count": 77,
   "metadata": {},
   "outputs": [
    {
     "data": {
      "text/plain": [
       "<matplotlib.axes._subplots.AxesSubplot at 0x124cf09d0>"
      ]
     },
     "execution_count": 77,
     "metadata": {},
     "output_type": "execute_result"
    },
    {
     "data": {
      "image/png": "[encoded data removed]",
      "text/plain": [
       "<Figure size 432x288 with 1 Axes>"
      ]
     },
     "metadata": {
      "needs_background": "light"
     },
     "output_type": "display_data"
    }
   ],
   "source": [
    "df2.plot(y=\"Volume\")"
   ]
  },
  {
   "cell_type": "code",
   "execution_count": 78,
   "metadata": {},
   "outputs": [
    {
     "data": {
      "text/plain": [
       "<matplotlib.collections.PathCollection at 0x125182e10>"
      ]
     },
     "execution_count": 78,
     "metadata": {},
     "output_type": "execute_result"
    },
    {
     "data": {
      "image/png": "[encoded data removed]",
      "text/plain": [
       "<Figure size 432x288 with 1 Axes>"
      ]
     },
     "metadata": {
      "needs_background": "light"
     },
     "output_type": "display_data"
    }
   ],
   "source": [
    "plt.scatter(x=df2['Open'], y=df2['Volume'])"
   ]
  },
  {
   "cell_type": "markdown",
   "metadata": {},
   "source": [
    "After processing, we can see the graphs are much more manageable and that there is further evidence supporting the trend of Volume to the Open value as we now see a downwards trend in Volume as the years go by."
   ]
  }
 ],
 "metadata": {
  "kernelspec": {
   "display_name": "Python 3",
   "language": "python",
   "name": "python3"
  },
  "language_info": {
   "codemirror_mode": {
    "name": "ipython",
    "version": 3
   },
   "file_extension": ".py",
   "mimetype": "text/x-python",
   "name": "python",
   "nbconvert_exporter": "python",
   "pygments_lexer": "ipython3",
   "version": "3.7.4"
  }
 },
 "nbformat": 4,
 "nbformat_minor": 2
}

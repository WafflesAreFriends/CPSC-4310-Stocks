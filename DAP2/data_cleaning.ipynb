{
 "cells": [
  {
   "cell_type": "markdown",
   "metadata": {},
   "source": [
    "# Dataset 1"
   ]
  },
  {
   "cell_type": "code",
   "execution_count": 86,
   "metadata": {},
   "outputs": [
    {
     "data": {
      "text/html": [
       "<div>\n",
       "<style scoped>\n",
       "    .dataframe tbody tr th:only-of-type {\n",
       "        vertical-align: middle;\n",
       "    }\n",
       "\n",
       "    .dataframe tbody tr th {\n",
       "        vertical-align: top;\n",
       "    }\n",
       "\n",
       "    .dataframe thead th {\n",
       "        text-align: right;\n",
       "    }\n",
       "</style>\n",
       "<table border=\"1\" class=\"dataframe\">\n",
       "  <thead>\n",
       "    <tr style=\"text-align: right;\">\n",
       "      <th></th>\n",
       "      <th>Unnamed: 0</th>\n",
       "      <th>Revenue</th>\n",
       "      <th>Revenue Growth</th>\n",
       "      <th>Cost of Revenue</th>\n",
       "      <th>Gross Profit</th>\n",
       "      <th>R&amp;D Expenses</th>\n",
       "      <th>SG&amp;A Expense</th>\n",
       "      <th>Operating Expenses</th>\n",
       "      <th>Operating Income</th>\n",
       "      <th>Interest Expense</th>\n",
       "      <th>...</th>\n",
       "      <th>Receivables growth</th>\n",
       "      <th>Inventory Growth</th>\n",
       "      <th>Asset Growth</th>\n",
       "      <th>Book Value per Share Growth</th>\n",
       "      <th>Debt Growth</th>\n",
       "      <th>R&amp;D Expense Growth</th>\n",
       "      <th>SG&amp;A Expenses Growth</th>\n",
       "      <th>Sector</th>\n",
       "      <th>2019 PRICE VAR [%]</th>\n",
       "      <th>Class</th>\n",
       "    </tr>\n",
       "  </thead>\n",
       "  <tbody>\n",
       "    <tr>\n",
       "      <td>0</td>\n",
       "      <td>CMCSA</td>\n",
       "      <td>9.450700e+10</td>\n",
       "      <td>0.1115</td>\n",
       "      <td>0.000000e+00</td>\n",
       "      <td>9.450700e+10</td>\n",
       "      <td>0.000000e+00</td>\n",
       "      <td>6.482200e+10</td>\n",
       "      <td>7.549800e+10</td>\n",
       "      <td>1.900900e+10</td>\n",
       "      <td>3.542000e+09</td>\n",
       "      <td>...</td>\n",
       "      <td>0.2570</td>\n",
       "      <td>0.0000</td>\n",
       "      <td>0.3426</td>\n",
       "      <td>0.0722</td>\n",
       "      <td>0.7309</td>\n",
       "      <td>0.0000</td>\n",
       "      <td>0.1308</td>\n",
       "      <td>Consumer Cyclical</td>\n",
       "      <td>32.794573</td>\n",
       "      <td>1</td>\n",
       "    </tr>\n",
       "    <tr>\n",
       "      <td>1</td>\n",
       "      <td>KMI</td>\n",
       "      <td>1.414400e+10</td>\n",
       "      <td>0.0320</td>\n",
       "      <td>7.288000e+09</td>\n",
       "      <td>6.856000e+09</td>\n",
       "      <td>0.000000e+00</td>\n",
       "      <td>6.010000e+08</td>\n",
       "      <td>3.062000e+09</td>\n",
       "      <td>3.794000e+09</td>\n",
       "      <td>1.917000e+09</td>\n",
       "      <td>...</td>\n",
       "      <td>0.0345</td>\n",
       "      <td>-0.0920</td>\n",
       "      <td>-0.0024</td>\n",
       "      <td>0.0076</td>\n",
       "      <td>-0.0137</td>\n",
       "      <td>0.0000</td>\n",
       "      <td>-0.1265</td>\n",
       "      <td>Energy</td>\n",
       "      <td>40.588068</td>\n",
       "      <td>1</td>\n",
       "    </tr>\n",
       "    <tr>\n",
       "      <td>2</td>\n",
       "      <td>INTC</td>\n",
       "      <td>7.084800e+10</td>\n",
       "      <td>0.1289</td>\n",
       "      <td>2.711100e+10</td>\n",
       "      <td>4.373700e+10</td>\n",
       "      <td>1.354300e+10</td>\n",
       "      <td>6.750000e+09</td>\n",
       "      <td>2.042100e+10</td>\n",
       "      <td>2.331600e+10</td>\n",
       "      <td>-1.260000e+08</td>\n",
       "      <td>...</td>\n",
       "      <td>0.1989</td>\n",
       "      <td>0.0387</td>\n",
       "      <td>0.0382</td>\n",
       "      <td>0.1014</td>\n",
       "      <td>-0.0169</td>\n",
       "      <td>0.0390</td>\n",
       "      <td>-0.0942</td>\n",
       "      <td>Technology</td>\n",
       "      <td>30.295514</td>\n",
       "      <td>1</td>\n",
       "    </tr>\n",
       "    <tr>\n",
       "      <td>3</td>\n",
       "      <td>MU</td>\n",
       "      <td>3.039100e+10</td>\n",
       "      <td>0.4955</td>\n",
       "      <td>1.250000e+10</td>\n",
       "      <td>1.789100e+10</td>\n",
       "      <td>2.141000e+09</td>\n",
       "      <td>8.130000e+08</td>\n",
       "      <td>2.897000e+09</td>\n",
       "      <td>1.499400e+10</td>\n",
       "      <td>3.420000e+08</td>\n",
       "      <td>...</td>\n",
       "      <td>0.4573</td>\n",
       "      <td>0.1511</td>\n",
       "      <td>0.2275</td>\n",
       "      <td>0.6395</td>\n",
       "      <td>-0.5841</td>\n",
       "      <td>0.1738</td>\n",
       "      <td>0.0942</td>\n",
       "      <td>Technology</td>\n",
       "      <td>64.213737</td>\n",
       "      <td>1</td>\n",
       "    </tr>\n",
       "    <tr>\n",
       "      <td>4</td>\n",
       "      <td>GE</td>\n",
       "      <td>1.216150e+11</td>\n",
       "      <td>0.0285</td>\n",
       "      <td>9.546100e+10</td>\n",
       "      <td>2.615400e+10</td>\n",
       "      <td>0.000000e+00</td>\n",
       "      <td>1.811100e+10</td>\n",
       "      <td>4.071100e+10</td>\n",
       "      <td>-1.455700e+10</td>\n",
       "      <td>5.059000e+09</td>\n",
       "      <td>...</td>\n",
       "      <td>-0.2781</td>\n",
       "      <td>-0.2892</td>\n",
       "      <td>-0.1575</td>\n",
       "      <td>-0.4487</td>\n",
       "      <td>-0.2297</td>\n",
       "      <td>0.0000</td>\n",
       "      <td>0.0308</td>\n",
       "      <td>Industrials</td>\n",
       "      <td>44.757840</td>\n",
       "      <td>1</td>\n",
       "    </tr>\n",
       "  </tbody>\n",
       "</table>\n",
       "<p>5 rows × 225 columns</p>\n",
       "</div>"
      ],
      "text/plain": [
       "  Unnamed: 0       Revenue  Revenue Growth  Cost of Revenue  Gross Profit  \\\n",
       "0      CMCSA  9.450700e+10          0.1115     0.000000e+00  9.450700e+10   \n",
       "1        KMI  1.414400e+10          0.0320     7.288000e+09  6.856000e+09   \n",
       "2       INTC  7.084800e+10          0.1289     2.711100e+10  4.373700e+10   \n",
       "3         MU  3.039100e+10          0.4955     1.250000e+10  1.789100e+10   \n",
       "4         GE  1.216150e+11          0.0285     9.546100e+10  2.615400e+10   \n",
       "\n",
       "   R&D Expenses  SG&A Expense  Operating Expenses  Operating Income  \\\n",
       "0  0.000000e+00  6.482200e+10        7.549800e+10      1.900900e+10   \n",
       "1  0.000000e+00  6.010000e+08        3.062000e+09      3.794000e+09   \n",
       "2  1.354300e+10  6.750000e+09        2.042100e+10      2.331600e+10   \n",
       "3  2.141000e+09  8.130000e+08        2.897000e+09      1.499400e+10   \n",
       "4  0.000000e+00  1.811100e+10        4.071100e+10     -1.455700e+10   \n",
       "\n",
       "   Interest Expense  ...  Receivables growth  Inventory Growth  Asset Growth  \\\n",
       "0      3.542000e+09  ...              0.2570            0.0000        0.3426   \n",
       "1      1.917000e+09  ...              0.0345           -0.0920       -0.0024   \n",
       "2     -1.260000e+08  ...              0.1989            0.0387        0.0382   \n",
       "3      3.420000e+08  ...              0.4573            0.1511        0.2275   \n",
       "4      5.059000e+09  ...             -0.2781           -0.2892       -0.1575   \n",
       "\n",
       "   Book Value per Share Growth  Debt Growth  R&D Expense Growth  \\\n",
       "0                       0.0722       0.7309              0.0000   \n",
       "1                       0.0076      -0.0137              0.0000   \n",
       "2                       0.1014      -0.0169              0.0390   \n",
       "3                       0.6395      -0.5841              0.1738   \n",
       "4                      -0.4487      -0.2297              0.0000   \n",
       "\n",
       "   SG&A Expenses Growth             Sector  2019 PRICE VAR [%]  Class  \n",
       "0                0.1308  Consumer Cyclical           32.794573      1  \n",
       "1               -0.1265             Energy           40.588068      1  \n",
       "2               -0.0942         Technology           30.295514      1  \n",
       "3                0.0942         Technology           64.213737      1  \n",
       "4                0.0308        Industrials           44.757840      1  \n",
       "\n",
       "[5 rows x 225 columns]"
      ]
     },
     "execution_count": 86,
     "metadata": {},
     "output_type": "execute_result"
    }
   ],
   "source": [
    "import numpy as np\n",
    "import pandas as pd\n",
    "import matplotlib.pyplot as plt\n",
    "\n",
    "df = pd.read_csv(\"rawdata/2018_Financial_Data.csv\")\n",
    "# Change to int\n",
    "df.head()"
   ]
  },
  {
   "cell_type": "markdown",
   "metadata": {},
   "source": [
    "There is a large amount of attributes. For now, we want to be looking at the most important attributes for determining the 'Class' column."
   ]
  },
  {
   "cell_type": "code",
   "execution_count": 98,
   "metadata": {},
   "outputs": [
    {
     "data": {
      "text/html": [
       "<div>\n",
       "<style scoped>\n",
       "    .dataframe tbody tr th:only-of-type {\n",
       "        vertical-align: middle;\n",
       "    }\n",
       "\n",
       "    .dataframe tbody tr th {\n",
       "        vertical-align: top;\n",
       "    }\n",
       "\n",
       "    .dataframe thead th {\n",
       "        text-align: right;\n",
       "    }\n",
       "</style>\n",
       "<table border=\"1\" class=\"dataframe\">\n",
       "  <thead>\n",
       "    <tr style=\"text-align: right;\">\n",
       "      <th></th>\n",
       "      <th>Dividends per Share Growth</th>\n",
       "      <th>3Y Revenue Growth (per Share)</th>\n",
       "      <th>EPS Growth</th>\n",
       "      <th>Net Income Growth</th>\n",
       "      <th>3Y Operating CF Growth (per Share)</th>\n",
       "      <th>3Y Net Income Growth (per Share)</th>\n",
       "      <th>3Y Shareholders Equity Growth (per Share)</th>\n",
       "      <th>3Y Dividend per Share Growth (per Share)</th>\n",
       "      <th>Book Value per Share</th>\n",
       "      <th>Debt Growth</th>\n",
       "      <th>Class</th>\n",
       "    </tr>\n",
       "  </thead>\n",
       "  <tbody>\n",
       "    <tr>\n",
       "      <td>count</td>\n",
       "      <td>4129.000000</td>\n",
       "      <td>3960.000000</td>\n",
       "      <td>4261.000000</td>\n",
       "      <td>4162.000000</td>\n",
       "      <td>3961.000000</td>\n",
       "      <td>3960.000000</td>\n",
       "      <td>3960.000000</td>\n",
       "      <td>4067.000000</td>\n",
       "      <td>4140.000000</td>\n",
       "      <td>4128.000000</td>\n",
       "      <td>4392.000000</td>\n",
       "    </tr>\n",
       "    <tr>\n",
       "      <td>mean</td>\n",
       "      <td>0.136031</td>\n",
       "      <td>0.049008</td>\n",
       "      <td>0.551279</td>\n",
       "      <td>1.424041</td>\n",
       "      <td>0.072548</td>\n",
       "      <td>0.083797</td>\n",
       "      <td>0.041146</td>\n",
       "      <td>0.006081</td>\n",
       "      <td>-70.206259</td>\n",
       "      <td>9.928446</td>\n",
       "      <td>0.693534</td>\n",
       "    </tr>\n",
       "    <tr>\n",
       "      <td>std</td>\n",
       "      <td>2.323152</td>\n",
       "      <td>0.445685</td>\n",
       "      <td>13.157888</td>\n",
       "      <td>62.949132</td>\n",
       "      <td>0.315449</td>\n",
       "      <td>0.412044</td>\n",
       "      <td>0.451656</td>\n",
       "      <td>0.239653</td>\n",
       "      <td>5648.293390</td>\n",
       "      <td>363.717734</td>\n",
       "      <td>0.461078</td>\n",
       "    </tr>\n",
       "    <tr>\n",
       "      <td>min</td>\n",
       "      <td>-1.000000</td>\n",
       "      <td>-1.000000</td>\n",
       "      <td>-332.000000</td>\n",
       "      <td>-2036.750000</td>\n",
       "      <td>-0.914600</td>\n",
       "      <td>-0.867600</td>\n",
       "      <td>-0.981000</td>\n",
       "      <td>-1.000000</td>\n",
       "      <td>-363376.472000</td>\n",
       "      <td>-1.000000</td>\n",
       "      <td>0.000000</td>\n",
       "    </tr>\n",
       "    <tr>\n",
       "      <td>25%</td>\n",
       "      <td>0.000000</td>\n",
       "      <td>-0.018125</td>\n",
       "      <td>-0.324800</td>\n",
       "      <td>-0.379725</td>\n",
       "      <td>0.000000</td>\n",
       "      <td>0.000000</td>\n",
       "      <td>-0.039400</td>\n",
       "      <td>0.000000</td>\n",
       "      <td>3.217750</td>\n",
       "      <td>-0.082850</td>\n",
       "      <td>0.000000</td>\n",
       "    </tr>\n",
       "    <tr>\n",
       "      <td>50%</td>\n",
       "      <td>0.000000</td>\n",
       "      <td>0.040000</td>\n",
       "      <td>0.185700</td>\n",
       "      <td>0.148250</td>\n",
       "      <td>0.000000</td>\n",
       "      <td>0.000000</td>\n",
       "      <td>0.025000</td>\n",
       "      <td>0.000000</td>\n",
       "      <td>9.939000</td>\n",
       "      <td>0.000000</td>\n",
       "      <td>1.000000</td>\n",
       "    </tr>\n",
       "    <tr>\n",
       "      <td>75%</td>\n",
       "      <td>0.047600</td>\n",
       "      <td>0.107425</td>\n",
       "      <td>0.693300</td>\n",
       "      <td>0.684250</td>\n",
       "      <td>0.129600</td>\n",
       "      <td>0.135650</td>\n",
       "      <td>0.101025</td>\n",
       "      <td>0.042050</td>\n",
       "      <td>20.550250</td>\n",
       "      <td>0.115425</td>\n",
       "      <td>1.000000</td>\n",
       "    </tr>\n",
       "    <tr>\n",
       "      <td>max</td>\n",
       "      <td>130.025000</td>\n",
       "      <td>13.336800</td>\n",
       "      <td>395.791700</td>\n",
       "      <td>3159.000000</td>\n",
       "      <td>5.180700</td>\n",
       "      <td>13.143100</td>\n",
       "      <td>18.315600</td>\n",
       "      <td>4.079100</td>\n",
       "      <td>3397.105000</td>\n",
       "      <td>17646.823500</td>\n",
       "      <td>1.000000</td>\n",
       "    </tr>\n",
       "  </tbody>\n",
       "</table>\n",
       "</div>"
      ],
      "text/plain": [
       "       Dividends per Share Growth  3Y Revenue Growth (per Share)   EPS Growth  \\\n",
       "count                 4129.000000                    3960.000000  4261.000000   \n",
       "mean                     0.136031                       0.049008     0.551279   \n",
       "std                      2.323152                       0.445685    13.157888   \n",
       "min                     -1.000000                      -1.000000  -332.000000   \n",
       "25%                      0.000000                      -0.018125    -0.324800   \n",
       "50%                      0.000000                       0.040000     0.185700   \n",
       "75%                      0.047600                       0.107425     0.693300   \n",
       "max                    130.025000                      13.336800   395.791700   \n",
       "\n",
       "       Net Income Growth  3Y Operating CF Growth (per Share)  \\\n",
       "count        4162.000000                         3961.000000   \n",
       "mean            1.424041                            0.072548   \n",
       "std            62.949132                            0.315449   \n",
       "min         -2036.750000                           -0.914600   \n",
       "25%            -0.379725                            0.000000   \n",
       "50%             0.148250                            0.000000   \n",
       "75%             0.684250                            0.129600   \n",
       "max          3159.000000                            5.180700   \n",
       "\n",
       "       3Y Net Income Growth (per Share)  \\\n",
       "count                       3960.000000   \n",
       "mean                           0.083797   \n",
       "std                            0.412044   \n",
       "min                           -0.867600   \n",
       "25%                            0.000000   \n",
       "50%                            0.000000   \n",
       "75%                            0.135650   \n",
       "max                           13.143100   \n",
       "\n",
       "       3Y Shareholders Equity Growth (per Share)  \\\n",
       "count                                3960.000000   \n",
       "mean                                    0.041146   \n",
       "std                                     0.451656   \n",
       "min                                    -0.981000   \n",
       "25%                                    -0.039400   \n",
       "50%                                     0.025000   \n",
       "75%                                     0.101025   \n",
       "max                                    18.315600   \n",
       "\n",
       "       3Y Dividend per Share Growth (per Share)  Book Value per Share  \\\n",
       "count                               4067.000000           4140.000000   \n",
       "mean                                   0.006081            -70.206259   \n",
       "std                                    0.239653           5648.293390   \n",
       "min                                   -1.000000        -363376.472000   \n",
       "25%                                    0.000000              3.217750   \n",
       "50%                                    0.000000              9.939000   \n",
       "75%                                    0.042050             20.550250   \n",
       "max                                    4.079100           3397.105000   \n",
       "\n",
       "        Debt Growth        Class  \n",
       "count   4128.000000  4392.000000  \n",
       "mean       9.928446     0.693534  \n",
       "std      363.717734     0.461078  \n",
       "min       -1.000000     0.000000  \n",
       "25%       -0.082850     0.000000  \n",
       "50%        0.000000     1.000000  \n",
       "75%        0.115425     1.000000  \n",
       "max    17646.823500     1.000000  "
      ]
     },
     "execution_count": 98,
     "metadata": {},
     "output_type": "execute_result"
    }
   ],
   "source": [
    "indicators = ['Dividends per Share Growth',\n",
    "              '3Y Revenue Growth (per Share)', \n",
    "              'EPS Growth',\n",
    "              'Net Income Growth',\n",
    "              '3Y Operating CF Growth (per Share)',\n",
    "              '3Y Net Income Growth (per Share)',\n",
    "              '3Y Shareholders Equity Growth (per Share)',\n",
    "              '3Y Dividend per Share Growth (per Share)',\n",
    "              'Book Value per Share',\n",
    "              'Debt Growth',\n",
    "              'Class']\n",
    "df = df[indicators]\n",
    "df.describe()"
   ]
  },
  {
   "cell_type": "code",
   "execution_count": 96,
   "metadata": {},
   "outputs": [
    {
     "data": {
      "text/plain": [
       "Dividends per Share Growth                   float64\n",
       "3Y Revenue Growth (per Share)                float64\n",
       "EPS Growth                                   float64\n",
       "Net Income Growth                            float64\n",
       "3Y Operating CF Growth (per Share)           float64\n",
       "3Y Net Income Growth (per Share)             float64\n",
       "3Y Shareholders Equity Growth (per Share)    float64\n",
       "3Y Dividend per Share Growth (per Share)     float64\n",
       "Book Value per Share                         float64\n",
       "Debt Growth                                  float64\n",
       "Class                                          int64\n",
       "dtype: object"
      ]
     },
     "execution_count": 96,
     "metadata": {},
     "output_type": "execute_result"
    }
   ],
   "source": [
    "df.dtypes"
   ]
  },
  {
   "cell_type": "code",
   "execution_count": 97,
   "metadata": {},
   "outputs": [
    {
     "data": {
      "text/plain": [
       "Dividends per Share Growth                   263\n",
       "3Y Revenue Growth (per Share)                432\n",
       "EPS Growth                                   131\n",
       "Net Income Growth                            230\n",
       "3Y Operating CF Growth (per Share)           431\n",
       "3Y Net Income Growth (per Share)             432\n",
       "3Y Shareholders Equity Growth (per Share)    432\n",
       "3Y Dividend per Share Growth (per Share)     325\n",
       "Book Value per Share                         252\n",
       "Debt Growth                                  264\n",
       "Class                                          0\n",
       "dtype: int64"
      ]
     },
     "execution_count": 97,
     "metadata": {},
     "output_type": "execute_result"
    }
   ],
   "source": [
    "df.isna().sum()"
   ]
  },
  {
   "cell_type": "markdown",
   "metadata": {},
   "source": [
    "First we have to deal with NaN data in the dataset. We will drop the rows that do not have all the values we need."
   ]
  },
  {
   "cell_type": "code",
   "execution_count": 100,
   "metadata": {},
   "outputs": [
    {
     "data": {
      "text/plain": [
       "Dividends per Share Growth                   3953\n",
       "3Y Revenue Growth (per Share)                3953\n",
       "EPS Growth                                   3953\n",
       "Net Income Growth                            3953\n",
       "3Y Operating CF Growth (per Share)           3953\n",
       "3Y Net Income Growth (per Share)             3953\n",
       "3Y Shareholders Equity Growth (per Share)    3953\n",
       "3Y Dividend per Share Growth (per Share)     3953\n",
       "Book Value per Share                         3953\n",
       "Debt Growth                                  3953\n",
       "Class                                        3953\n",
       "dtype: int64"
      ]
     },
     "execution_count": 100,
     "metadata": {},
     "output_type": "execute_result"
    }
   ],
   "source": [
    "df = df.dropna()\n",
    "df.count()"
   ]
  },
  {
   "cell_type": "code",
   "execution_count": 101,
   "metadata": {},
   "outputs": [
    {
     "data": {
      "text/html": [
       "<div>\n",
       "<style scoped>\n",
       "    .dataframe tbody tr th:only-of-type {\n",
       "        vertical-align: middle;\n",
       "    }\n",
       "\n",
       "    .dataframe tbody tr th {\n",
       "        vertical-align: top;\n",
       "    }\n",
       "\n",
       "    .dataframe thead th {\n",
       "        text-align: right;\n",
       "    }\n",
       "</style>\n",
       "<table border=\"1\" class=\"dataframe\">\n",
       "  <thead>\n",
       "    <tr style=\"text-align: right;\">\n",
       "      <th></th>\n",
       "      <th>Dividends per Share Growth</th>\n",
       "      <th>3Y Revenue Growth (per Share)</th>\n",
       "      <th>EPS Growth</th>\n",
       "      <th>Net Income Growth</th>\n",
       "      <th>3Y Operating CF Growth (per Share)</th>\n",
       "      <th>3Y Net Income Growth (per Share)</th>\n",
       "      <th>3Y Shareholders Equity Growth (per Share)</th>\n",
       "      <th>3Y Dividend per Share Growth (per Share)</th>\n",
       "      <th>Book Value per Share</th>\n",
       "      <th>Debt Growth</th>\n",
       "      <th>Class</th>\n",
       "    </tr>\n",
       "  </thead>\n",
       "  <tbody>\n",
       "    <tr>\n",
       "      <td>count</td>\n",
       "      <td>3953.000000</td>\n",
       "      <td>3953.000000</td>\n",
       "      <td>3953.000000</td>\n",
       "      <td>3953.000000</td>\n",
       "      <td>3953.000000</td>\n",
       "      <td>3953.000000</td>\n",
       "      <td>3953.000000</td>\n",
       "      <td>3953.000000</td>\n",
       "      <td>3953.000000</td>\n",
       "      <td>3953.000000</td>\n",
       "      <td>3953.000000</td>\n",
       "    </tr>\n",
       "    <tr>\n",
       "      <td>mean</td>\n",
       "      <td>0.138120</td>\n",
       "      <td>0.049329</td>\n",
       "      <td>0.512181</td>\n",
       "      <td>1.424428</td>\n",
       "      <td>0.072769</td>\n",
       "      <td>0.083779</td>\n",
       "      <td>0.041349</td>\n",
       "      <td>0.006113</td>\n",
       "      <td>-74.057309</td>\n",
       "      <td>6.593540</td>\n",
       "      <td>0.686061</td>\n",
       "    </tr>\n",
       "    <tr>\n",
       "      <td>std</td>\n",
       "      <td>2.372565</td>\n",
       "      <td>0.445870</td>\n",
       "      <td>13.386173</td>\n",
       "      <td>64.533610</td>\n",
       "      <td>0.315703</td>\n",
       "      <td>0.412359</td>\n",
       "      <td>0.451874</td>\n",
       "      <td>0.243043</td>\n",
       "      <td>5780.347409</td>\n",
       "      <td>288.054141</td>\n",
       "      <td>0.464151</td>\n",
       "    </tr>\n",
       "    <tr>\n",
       "      <td>min</td>\n",
       "      <td>-1.000000</td>\n",
       "      <td>-1.000000</td>\n",
       "      <td>-332.000000</td>\n",
       "      <td>-2036.750000</td>\n",
       "      <td>-0.914600</td>\n",
       "      <td>-0.867600</td>\n",
       "      <td>-0.981000</td>\n",
       "      <td>-1.000000</td>\n",
       "      <td>-363376.472000</td>\n",
       "      <td>-1.000000</td>\n",
       "      <td>0.000000</td>\n",
       "    </tr>\n",
       "    <tr>\n",
       "      <td>25%</td>\n",
       "      <td>0.000000</td>\n",
       "      <td>-0.018100</td>\n",
       "      <td>-0.271400</td>\n",
       "      <td>-0.368200</td>\n",
       "      <td>0.000000</td>\n",
       "      <td>0.000000</td>\n",
       "      <td>-0.039300</td>\n",
       "      <td>0.000000</td>\n",
       "      <td>3.294000</td>\n",
       "      <td>-0.083300</td>\n",
       "      <td>0.000000</td>\n",
       "    </tr>\n",
       "    <tr>\n",
       "      <td>50%</td>\n",
       "      <td>0.000000</td>\n",
       "      <td>0.040200</td>\n",
       "      <td>0.194600</td>\n",
       "      <td>0.147600</td>\n",
       "      <td>0.000000</td>\n",
       "      <td>0.000000</td>\n",
       "      <td>0.025100</td>\n",
       "      <td>0.000000</td>\n",
       "      <td>10.195400</td>\n",
       "      <td>0.000000</td>\n",
       "      <td>1.000000</td>\n",
       "    </tr>\n",
       "    <tr>\n",
       "      <td>75%</td>\n",
       "      <td>0.051300</td>\n",
       "      <td>0.107600</td>\n",
       "      <td>0.686600</td>\n",
       "      <td>0.676300</td>\n",
       "      <td>0.129800</td>\n",
       "      <td>0.135600</td>\n",
       "      <td>0.101100</td>\n",
       "      <td>0.046000</td>\n",
       "      <td>21.017000</td>\n",
       "      <td>0.114700</td>\n",
       "      <td>1.000000</td>\n",
       "    </tr>\n",
       "    <tr>\n",
       "      <td>max</td>\n",
       "      <td>130.025000</td>\n",
       "      <td>13.336800</td>\n",
       "      <td>395.791700</td>\n",
       "      <td>3159.000000</td>\n",
       "      <td>5.180700</td>\n",
       "      <td>13.143100</td>\n",
       "      <td>18.315600</td>\n",
       "      <td>4.079100</td>\n",
       "      <td>3397.105000</td>\n",
       "      <td>17646.823500</td>\n",
       "      <td>1.000000</td>\n",
       "    </tr>\n",
       "  </tbody>\n",
       "</table>\n",
       "</div>"
      ],
      "text/plain": [
       "       Dividends per Share Growth  3Y Revenue Growth (per Share)   EPS Growth  \\\n",
       "count                 3953.000000                    3953.000000  3953.000000   \n",
       "mean                     0.138120                       0.049329     0.512181   \n",
       "std                      2.372565                       0.445870    13.386173   \n",
       "min                     -1.000000                      -1.000000  -332.000000   \n",
       "25%                      0.000000                      -0.018100    -0.271400   \n",
       "50%                      0.000000                       0.040200     0.194600   \n",
       "75%                      0.051300                       0.107600     0.686600   \n",
       "max                    130.025000                      13.336800   395.791700   \n",
       "\n",
       "       Net Income Growth  3Y Operating CF Growth (per Share)  \\\n",
       "count        3953.000000                         3953.000000   \n",
       "mean            1.424428                            0.072769   \n",
       "std            64.533610                            0.315703   \n",
       "min         -2036.750000                           -0.914600   \n",
       "25%            -0.368200                            0.000000   \n",
       "50%             0.147600                            0.000000   \n",
       "75%             0.676300                            0.129800   \n",
       "max          3159.000000                            5.180700   \n",
       "\n",
       "       3Y Net Income Growth (per Share)  \\\n",
       "count                       3953.000000   \n",
       "mean                           0.083779   \n",
       "std                            0.412359   \n",
       "min                           -0.867600   \n",
       "25%                            0.000000   \n",
       "50%                            0.000000   \n",
       "75%                            0.135600   \n",
       "max                           13.143100   \n",
       "\n",
       "       3Y Shareholders Equity Growth (per Share)  \\\n",
       "count                                3953.000000   \n",
       "mean                                    0.041349   \n",
       "std                                     0.451874   \n",
       "min                                    -0.981000   \n",
       "25%                                    -0.039300   \n",
       "50%                                     0.025100   \n",
       "75%                                     0.101100   \n",
       "max                                    18.315600   \n",
       "\n",
       "       3Y Dividend per Share Growth (per Share)  Book Value per Share  \\\n",
       "count                               3953.000000           3953.000000   \n",
       "mean                                   0.006113            -74.057309   \n",
       "std                                    0.243043           5780.347409   \n",
       "min                                   -1.000000        -363376.472000   \n",
       "25%                                    0.000000              3.294000   \n",
       "50%                                    0.000000             10.195400   \n",
       "75%                                    0.046000             21.017000   \n",
       "max                                    4.079100           3397.105000   \n",
       "\n",
       "        Debt Growth        Class  \n",
       "count   3953.000000  3953.000000  \n",
       "mean       6.593540     0.686061  \n",
       "std      288.054141     0.464151  \n",
       "min       -1.000000     0.000000  \n",
       "25%       -0.083300     0.000000  \n",
       "50%        0.000000     1.000000  \n",
       "75%        0.114700     1.000000  \n",
       "max    17646.823500     1.000000  "
      ]
     },
     "execution_count": 101,
     "metadata": {},
     "output_type": "execute_result"
    }
   ],
   "source": [
    "df.describe()"
   ]
  },
  {
   "cell_type": "markdown",
   "metadata": {},
   "source": [
    "There are quite a number of outliers. To see what is happening, we have to look at the distributions."
   ]
  },
  {
   "cell_type": "code",
   "execution_count": 104,
   "metadata": {},
   "outputs": [
    {
     "data": {
      "text/plain": [
       "<matplotlib.axes._subplots.AxesSubplot at 0x127252350>"
      ]
     },
     "execution_count": 104,
     "metadata": {},
     "output_type": "execute_result"
    },
    {
     "data": {
      "image/png": "[encoded data removed]",
      "text/plain": [
       "<Figure size 432x288 with 1 Axes>"
      ]
     },
     "metadata": {
      "needs_background": "light"
     },
     "output_type": "display_data"
    }
   ],
   "source": [
    "df.boxplot(column = \"Dividends per Share Growth\")"
   ]
  },
  {
   "cell_type": "markdown",
   "metadata": {},
   "source": [
    "# Dataset 2"
   ]
  },
  {
   "cell_type": "markdown",
   "metadata": {},
   "source": [
    "This dataset includes daily stock market data for Aaple."
   ]
  },
  {
   "cell_type": "code",
   "execution_count": 63,
   "metadata": {},
   "outputs": [
    {
     "data": {
      "text/html": [
       "<div>\n",
       "<style scoped>\n",
       "    .dataframe tbody tr th:only-of-type {\n",
       "        vertical-align: middle;\n",
       "    }\n",
       "\n",
       "    .dataframe tbody tr th {\n",
       "        vertical-align: top;\n",
       "    }\n",
       "\n",
       "    .dataframe thead th {\n",
       "        text-align: right;\n",
       "    }\n",
       "</style>\n",
       "<table border=\"1\" class=\"dataframe\">\n",
       "  <thead>\n",
       "    <tr style=\"text-align: right;\">\n",
       "      <th></th>\n",
       "      <th>Date</th>\n",
       "      <th>Open</th>\n",
       "      <th>High</th>\n",
       "      <th>Low</th>\n",
       "      <th>Close</th>\n",
       "      <th>Volume</th>\n",
       "      <th>OpenInt</th>\n",
       "    </tr>\n",
       "  </thead>\n",
       "  <tbody>\n",
       "    <tr>\n",
       "      <td>0</td>\n",
       "      <td>1984-09-07</td>\n",
       "      <td>0.42388</td>\n",
       "      <td>0.42902</td>\n",
       "      <td>0.41874</td>\n",
       "      <td>0.42388</td>\n",
       "      <td>23220030</td>\n",
       "      <td>0</td>\n",
       "    </tr>\n",
       "    <tr>\n",
       "      <td>1</td>\n",
       "      <td>1984-09-10</td>\n",
       "      <td>0.42388</td>\n",
       "      <td>0.42516</td>\n",
       "      <td>0.41366</td>\n",
       "      <td>0.42134</td>\n",
       "      <td>18022532</td>\n",
       "      <td>0</td>\n",
       "    </tr>\n",
       "    <tr>\n",
       "      <td>2</td>\n",
       "      <td>1984-09-11</td>\n",
       "      <td>0.42516</td>\n",
       "      <td>0.43668</td>\n",
       "      <td>0.42516</td>\n",
       "      <td>0.42902</td>\n",
       "      <td>42498199</td>\n",
       "      <td>0</td>\n",
       "    </tr>\n",
       "    <tr>\n",
       "      <td>3</td>\n",
       "      <td>1984-09-12</td>\n",
       "      <td>0.42902</td>\n",
       "      <td>0.43157</td>\n",
       "      <td>0.41618</td>\n",
       "      <td>0.41618</td>\n",
       "      <td>37125801</td>\n",
       "      <td>0</td>\n",
       "    </tr>\n",
       "    <tr>\n",
       "      <td>4</td>\n",
       "      <td>1984-09-13</td>\n",
       "      <td>0.43927</td>\n",
       "      <td>0.44052</td>\n",
       "      <td>0.43927</td>\n",
       "      <td>0.43927</td>\n",
       "      <td>57822062</td>\n",
       "      <td>0</td>\n",
       "    </tr>\n",
       "  </tbody>\n",
       "</table>\n",
       "</div>"
      ],
      "text/plain": [
       "         Date     Open     High      Low    Close    Volume  OpenInt\n",
       "0  1984-09-07  0.42388  0.42902  0.41874  0.42388  23220030        0\n",
       "1  1984-09-10  0.42388  0.42516  0.41366  0.42134  18022532        0\n",
       "2  1984-09-11  0.42516  0.43668  0.42516  0.42902  42498199        0\n",
       "3  1984-09-12  0.42902  0.43157  0.41618  0.41618  37125801        0\n",
       "4  1984-09-13  0.43927  0.44052  0.43927  0.43927  57822062        0"
      ]
     },
     "execution_count": 63,
     "metadata": {},
     "output_type": "execute_result"
    }
   ],
   "source": [
    "df2 = pd.read_csv(\"rawdata/aapl.us.txt\")\n",
    "df2.head()"
   ]
  },
  {
   "cell_type": "code",
   "execution_count": 64,
   "metadata": {},
   "outputs": [
    {
     "data": {
      "text/html": [
       "<div>\n",
       "<style scoped>\n",
       "    .dataframe tbody tr th:only-of-type {\n",
       "        vertical-align: middle;\n",
       "    }\n",
       "\n",
       "    .dataframe tbody tr th {\n",
       "        vertical-align: top;\n",
       "    }\n",
       "\n",
       "    .dataframe thead th {\n",
       "        text-align: right;\n",
       "    }\n",
       "</style>\n",
       "<table border=\"1\" class=\"dataframe\">\n",
       "  <thead>\n",
       "    <tr style=\"text-align: right;\">\n",
       "      <th></th>\n",
       "      <th>Open</th>\n",
       "      <th>High</th>\n",
       "      <th>Low</th>\n",
       "      <th>Close</th>\n",
       "      <th>Volume</th>\n",
       "      <th>OpenInt</th>\n",
       "    </tr>\n",
       "  </thead>\n",
       "  <tbody>\n",
       "    <tr>\n",
       "      <td>count</td>\n",
       "      <td>8364.000000</td>\n",
       "      <td>8364.000000</td>\n",
       "      <td>8364.000000</td>\n",
       "      <td>8364.000000</td>\n",
       "      <td>8.364000e+03</td>\n",
       "      <td>8364.0</td>\n",
       "    </tr>\n",
       "    <tr>\n",
       "      <td>mean</td>\n",
       "      <td>22.284350</td>\n",
       "      <td>22.495867</td>\n",
       "      <td>22.054244</td>\n",
       "      <td>22.281018</td>\n",
       "      <td>1.066416e+08</td>\n",
       "      <td>0.0</td>\n",
       "    </tr>\n",
       "    <tr>\n",
       "      <td>std</td>\n",
       "      <td>37.763402</td>\n",
       "      <td>38.057733</td>\n",
       "      <td>37.447432</td>\n",
       "      <td>37.764469</td>\n",
       "      <td>9.935187e+07</td>\n",
       "      <td>0.0</td>\n",
       "    </tr>\n",
       "    <tr>\n",
       "      <td>min</td>\n",
       "      <td>0.233050</td>\n",
       "      <td>0.235640</td>\n",
       "      <td>0.230510</td>\n",
       "      <td>0.230510</td>\n",
       "      <td>0.000000e+00</td>\n",
       "      <td>0.0</td>\n",
       "    </tr>\n",
       "    <tr>\n",
       "      <td>25%</td>\n",
       "      <td>1.137100</td>\n",
       "      <td>1.164200</td>\n",
       "      <td>1.112800</td>\n",
       "      <td>1.137100</td>\n",
       "      <td>4.384365e+07</td>\n",
       "      <td>0.0</td>\n",
       "    </tr>\n",
       "    <tr>\n",
       "      <td>50%</td>\n",
       "      <td>1.632800</td>\n",
       "      <td>1.663400</td>\n",
       "      <td>1.600600</td>\n",
       "      <td>1.628250</td>\n",
       "      <td>7.481383e+07</td>\n",
       "      <td>0.0</td>\n",
       "    </tr>\n",
       "    <tr>\n",
       "      <td>75%</td>\n",
       "      <td>23.739000</td>\n",
       "      <td>23.930500</td>\n",
       "      <td>23.335750</td>\n",
       "      <td>23.694500</td>\n",
       "      <td>1.320534e+08</td>\n",
       "      <td>0.0</td>\n",
       "    </tr>\n",
       "    <tr>\n",
       "      <td>max</td>\n",
       "      <td>175.110000</td>\n",
       "      <td>175.610000</td>\n",
       "      <td>174.270000</td>\n",
       "      <td>175.610000</td>\n",
       "      <td>2.069770e+09</td>\n",
       "      <td>0.0</td>\n",
       "    </tr>\n",
       "  </tbody>\n",
       "</table>\n",
       "</div>"
      ],
      "text/plain": [
       "              Open         High          Low        Close        Volume  \\\n",
       "count  8364.000000  8364.000000  8364.000000  8364.000000  8.364000e+03   \n",
       "mean     22.284350    22.495867    22.054244    22.281018  1.066416e+08   \n",
       "std      37.763402    38.057733    37.447432    37.764469  9.935187e+07   \n",
       "min       0.233050     0.235640     0.230510     0.230510  0.000000e+00   \n",
       "25%       1.137100     1.164200     1.112800     1.137100  4.384365e+07   \n",
       "50%       1.632800     1.663400     1.600600     1.628250  7.481383e+07   \n",
       "75%      23.739000    23.930500    23.335750    23.694500  1.320534e+08   \n",
       "max     175.110000   175.610000   174.270000   175.610000  2.069770e+09   \n",
       "\n",
       "       OpenInt  \n",
       "count   8364.0  \n",
       "mean       0.0  \n",
       "std        0.0  \n",
       "min        0.0  \n",
       "25%        0.0  \n",
       "50%        0.0  \n",
       "75%        0.0  \n",
       "max        0.0  "
      ]
     },
     "execution_count": 64,
     "metadata": {},
     "output_type": "execute_result"
    }
   ],
   "source": [
    "df2.describe()"
   ]
  },
  {
   "cell_type": "markdown",
   "metadata": {},
   "source": [
    "First we see that the count is consistent across all columns. This means there are no NaN values we have to worry about. We can see that the OpenInt column is useless and we want the Date column to be our index since it is a time series. We also see that for Open, High, Low, and Close, there is a large max outlier. We will have to look at some distributions to see what is happening."
   ]
  },
  {
   "cell_type": "code",
   "execution_count": 65,
   "metadata": {},
   "outputs": [],
   "source": [
    "df2.set_index(\"Date\", inplace=True)\n",
    "df2.drop(columns=['OpenInt'], inplace=True)"
   ]
  },
  {
   "cell_type": "code",
   "execution_count": 66,
   "metadata": {},
   "outputs": [
    {
     "data": {
      "text/plain": [
       "<matplotlib.axes._subplots.AxesSubplot at 0x124c5c590>"
      ]
     },
     "execution_count": 66,
     "metadata": {},
     "output_type": "execute_result"
    },
    {
     "data": {
      "image/png": "[encoded data removed]",
      "text/plain": [
       "<Figure size 432x288 with 1 Axes>"
      ]
     },
     "metadata": {
      "needs_background": "light"
     },
     "output_type": "display_data"
    }
   ],
   "source": [
    "df2.cumsum().plot(y=\"Open\")"
   ]
  },
  {
   "cell_type": "code",
   "execution_count": 67,
   "metadata": {},
   "outputs": [
    {
     "data": {
      "text/plain": [
       "array([[<matplotlib.axes._subplots.AxesSubplot object at 0x1237191d0>,\n",
       "        <matplotlib.axes._subplots.AxesSubplot object at 0x122f4f650>],\n",
       "       [<matplotlib.axes._subplots.AxesSubplot object at 0x122eece50>,\n",
       "        <matplotlib.axes._subplots.AxesSubplot object at 0x123879690>],\n",
       "       [<matplotlib.axes._subplots.AxesSubplot object at 0x12563fe90>,\n",
       "        <matplotlib.axes._subplots.AxesSubplot object at 0x12567b6d0>]],\n",
       "      dtype=object)"
      ]
     },
     "execution_count": 67,
     "metadata": {},
     "output_type": "execute_result"
    },
    {
     "data": {
      "image/png": "[encoded data removed]",
      "text/plain": [
       "<Figure size 432x288 with 6 Axes>"
      ]
     },
     "metadata": {
      "needs_background": "light"
     },
     "output_type": "display_data"
    }
   ],
   "source": [
    "df2.hist()"
   ]
  },
  {
   "cell_type": "code",
   "execution_count": 68,
   "metadata": {},
   "outputs": [
    {
     "data": {
      "text/plain": [
       "<matplotlib.axes._subplots.AxesSubplot at 0x125864d10>"
      ]
     },
     "execution_count": 68,
     "metadata": {},
     "output_type": "execute_result"
    },
    {
     "data": {
      "image/png": "[encoded data removed]",
      "text/plain": [
       "<Figure size 432x288 with 1 Axes>"
      ]
     },
     "metadata": {
      "needs_background": "light"
     },
     "output_type": "display_data"
    }
   ],
   "source": [
    "df2.boxplot(column=[\"Open\", \"High\", \"Low\", \"Close\"])"
   ]
  },
  {
   "cell_type": "code",
   "execution_count": 69,
   "metadata": {},
   "outputs": [
    {
     "data": {
      "text/plain": [
       "<matplotlib.axes._subplots.AxesSubplot at 0x1259854d0>"
      ]
     },
     "execution_count": 69,
     "metadata": {},
     "output_type": "execute_result"
    },
    {
     "data": {
      "image/png": "[encoded data removed]",
      "text/plain": [
       "<Figure size 432x288 with 1 Axes>"
      ]
     },
     "metadata": {
      "needs_background": "light"
     },
     "output_type": "display_data"
    }
   ],
   "source": [
    "df2.plot(y=\"Volume\")"
   ]
  },
  {
   "cell_type": "code",
   "execution_count": 70,
   "metadata": {},
   "outputs": [
    {
     "data": {
      "text/plain": [
       "<matplotlib.axes._subplots.AxesSubplot at 0x1257bc3d0>"
      ]
     },
     "execution_count": 70,
     "metadata": {},
     "output_type": "execute_result"
    },
    {
     "data": {
      "image/png": "[encoded data removed]",
      "text/plain": [
       "<Figure size 432x288 with 1 Axes>"
      ]
     },
     "metadata": {
      "needs_background": "light"
     },
     "output_type": "display_data"
    }
   ],
   "source": [
    "df2.boxplot(column=\"Volume\")"
   ]
  },
  {
   "cell_type": "code",
   "execution_count": 61,
   "metadata": {},
   "outputs": [
    {
     "data": {
      "text/plain": [
       "<matplotlib.collections.PathCollection at 0x1230b0410>"
      ]
     },
     "execution_count": 61,
     "metadata": {},
     "output_type": "execute_result"
    },
    {
     "data": {
      "image/png": "[encoded data removed]",
      "text/plain": [
       "<Figure size 432x288 with 1 Axes>"
      ]
     },
     "metadata": {
      "needs_background": "light"
     },
     "output_type": "display_data"
    }
   ],
   "source": [
    "plt.scatter(x=df2['Open'], y=df2['Volume'])"
   ]
  },
  {
   "cell_type": "markdown",
   "metadata": {},
   "source": [
    "## Analysis\n",
    "From these findings, we see that there is a positive exponential trend of Apple's stock prices over the years. Much of the data is skewed towards the low stock prices before around the 2000s. Many of the outliers according to the boxplot are the largest, most recent data. This poses a problem as we want to predict prices in more recent times. To fix this, we will throw out the data before 2007 (the year of the iPhone creation) to get a better representation of modern Apple trends.\n",
    "\n",
    "Interestingly, there also seems to be a negative exponential trend when comparing the Open price in relation to the the Volume. We can use the Volume for prediction as well."
   ]
  },
  {
   "cell_type": "code",
   "execution_count": 71,
   "metadata": {},
   "outputs": [
    {
     "data": {
      "text/html": [
       "<div>\n",
       "<style scoped>\n",
       "    .dataframe tbody tr th:only-of-type {\n",
       "        vertical-align: middle;\n",
       "    }\n",
       "\n",
       "    .dataframe tbody tr th {\n",
       "        vertical-align: top;\n",
       "    }\n",
       "\n",
       "    .dataframe thead th {\n",
       "        text-align: right;\n",
       "    }\n",
       "</style>\n",
       "<table border=\"1\" class=\"dataframe\">\n",
       "  <thead>\n",
       "    <tr style=\"text-align: right;\">\n",
       "      <th></th>\n",
       "      <th>Open</th>\n",
       "      <th>High</th>\n",
       "      <th>Low</th>\n",
       "      <th>Close</th>\n",
       "      <th>Volume</th>\n",
       "    </tr>\n",
       "    <tr>\n",
       "      <th>Date</th>\n",
       "      <th></th>\n",
       "      <th></th>\n",
       "      <th></th>\n",
       "      <th></th>\n",
       "      <th></th>\n",
       "    </tr>\n",
       "  </thead>\n",
       "  <tbody>\n",
       "    <tr>\n",
       "      <td>2007-01-03</td>\n",
       "      <td>11.049</td>\n",
       "      <td>11.087</td>\n",
       "      <td>10.486</td>\n",
       "      <td>10.731</td>\n",
       "      <td>345302870</td>\n",
       "    </tr>\n",
       "    <tr>\n",
       "      <td>2007-01-04</td>\n",
       "      <td>10.780</td>\n",
       "      <td>11.007</td>\n",
       "      <td>10.733</td>\n",
       "      <td>10.969</td>\n",
       "      <td>236252357</td>\n",
       "    </tr>\n",
       "    <tr>\n",
       "      <td>2007-01-05</td>\n",
       "      <td>10.992</td>\n",
       "      <td>11.038</td>\n",
       "      <td>10.807</td>\n",
       "      <td>10.893</td>\n",
       "      <td>232773093</td>\n",
       "    </tr>\n",
       "    <tr>\n",
       "      <td>2007-01-08</td>\n",
       "      <td>11.011</td>\n",
       "      <td>11.081</td>\n",
       "      <td>10.922</td>\n",
       "      <td>10.946</td>\n",
       "      <td>222149027</td>\n",
       "    </tr>\n",
       "    <tr>\n",
       "      <td>2007-01-09</td>\n",
       "      <td>11.075</td>\n",
       "      <td>11.907</td>\n",
       "      <td>10.906</td>\n",
       "      <td>11.854</td>\n",
       "      <td>933759387</td>\n",
       "    </tr>\n",
       "  </tbody>\n",
       "</table>\n",
       "</div>"
      ],
      "text/plain": [
       "              Open    High     Low   Close     Volume\n",
       "Date                                                 \n",
       "2007-01-03  11.049  11.087  10.486  10.731  345302870\n",
       "2007-01-04  10.780  11.007  10.733  10.969  236252357\n",
       "2007-01-05  10.992  11.038  10.807  10.893  232773093\n",
       "2007-01-08  11.011  11.081  10.922  10.946  222149027\n",
       "2007-01-09  11.075  11.907  10.906  11.854  933759387"
      ]
     },
     "execution_count": 71,
     "metadata": {},
     "output_type": "execute_result"
    }
   ],
   "source": [
    "toDrop = []\n",
    "for index, row in df2.iterrows():\n",
    "    if index[:4] == '2007':\n",
    "        break\n",
    "    toDrop.append(index)\n",
    "\n",
    "df2.drop(toDrop, inplace=True)\n",
    "df2.head()"
   ]
  },
  {
   "cell_type": "code",
   "execution_count": 73,
   "metadata": {},
   "outputs": [
    {
     "data": {
      "text/html": [
       "<div>\n",
       "<style scoped>\n",
       "    .dataframe tbody tr th:only-of-type {\n",
       "        vertical-align: middle;\n",
       "    }\n",
       "\n",
       "    .dataframe tbody tr th {\n",
       "        vertical-align: top;\n",
       "    }\n",
       "\n",
       "    .dataframe thead th {\n",
       "        text-align: right;\n",
       "    }\n",
       "</style>\n",
       "<table border=\"1\" class=\"dataframe\">\n",
       "  <thead>\n",
       "    <tr style=\"text-align: right;\">\n",
       "      <th></th>\n",
       "      <th>Open</th>\n",
       "      <th>High</th>\n",
       "      <th>Low</th>\n",
       "      <th>Close</th>\n",
       "      <th>Volume</th>\n",
       "    </tr>\n",
       "  </thead>\n",
       "  <tbody>\n",
       "    <tr>\n",
       "      <td>count</td>\n",
       "      <td>2736.000000</td>\n",
       "      <td>2736.000000</td>\n",
       "      <td>2736.000000</td>\n",
       "      <td>2736.000000</td>\n",
       "      <td>2.736000e+03</td>\n",
       "    </tr>\n",
       "    <tr>\n",
       "      <td>mean</td>\n",
       "      <td>64.313843</td>\n",
       "      <td>64.891892</td>\n",
       "      <td>63.681515</td>\n",
       "      <td>64.305140</td>\n",
       "      <td>1.370447e+08</td>\n",
       "    </tr>\n",
       "    <tr>\n",
       "      <td>std</td>\n",
       "      <td>41.547584</td>\n",
       "      <td>41.811585</td>\n",
       "      <td>41.277361</td>\n",
       "      <td>41.558909</td>\n",
       "      <td>1.114389e+08</td>\n",
       "    </tr>\n",
       "    <tr>\n",
       "      <td>min</td>\n",
       "      <td>10.180000</td>\n",
       "      <td>10.500000</td>\n",
       "      <td>10.014000</td>\n",
       "      <td>10.014000</td>\n",
       "      <td>0.000000e+00</td>\n",
       "    </tr>\n",
       "    <tr>\n",
       "      <td>25%</td>\n",
       "      <td>24.310000</td>\n",
       "      <td>24.517000</td>\n",
       "      <td>23.975250</td>\n",
       "      <td>24.310000</td>\n",
       "      <td>5.373976e+07</td>\n",
       "    </tr>\n",
       "    <tr>\n",
       "      <td>50%</td>\n",
       "      <td>58.297000</td>\n",
       "      <td>58.787500</td>\n",
       "      <td>57.528000</td>\n",
       "      <td>58.204000</td>\n",
       "      <td>1.085332e+08</td>\n",
       "    </tr>\n",
       "    <tr>\n",
       "      <td>75%</td>\n",
       "      <td>96.659250</td>\n",
       "      <td>97.379500</td>\n",
       "      <td>95.792250</td>\n",
       "      <td>96.647250</td>\n",
       "      <td>1.834531e+08</td>\n",
       "    </tr>\n",
       "    <tr>\n",
       "      <td>max</td>\n",
       "      <td>175.110000</td>\n",
       "      <td>175.610000</td>\n",
       "      <td>174.270000</td>\n",
       "      <td>175.610000</td>\n",
       "      <td>9.396953e+08</td>\n",
       "    </tr>\n",
       "  </tbody>\n",
       "</table>\n",
       "</div>"
      ],
      "text/plain": [
       "              Open         High          Low        Close        Volume\n",
       "count  2736.000000  2736.000000  2736.000000  2736.000000  2.736000e+03\n",
       "mean     64.313843    64.891892    63.681515    64.305140  1.370447e+08\n",
       "std      41.547584    41.811585    41.277361    41.558909  1.114389e+08\n",
       "min      10.180000    10.500000    10.014000    10.014000  0.000000e+00\n",
       "25%      24.310000    24.517000    23.975250    24.310000  5.373976e+07\n",
       "50%      58.297000    58.787500    57.528000    58.204000  1.085332e+08\n",
       "75%      96.659250    97.379500    95.792250    96.647250  1.834531e+08\n",
       "max     175.110000   175.610000   174.270000   175.610000  9.396953e+08"
      ]
     },
     "execution_count": 73,
     "metadata": {},
     "output_type": "execute_result"
    }
   ],
   "source": [
    "df2.describe()"
   ]
  },
  {
   "cell_type": "code",
   "execution_count": 74,
   "metadata": {},
   "outputs": [
    {
     "data": {
      "text/plain": [
       "<matplotlib.axes._subplots.AxesSubplot at 0x123c36510>"
      ]
     },
     "execution_count": 74,
     "metadata": {},
     "output_type": "execute_result"
    },
    {
     "data": {
      "image/png": "[encoded data removed]",
      "text/plain": [
       "<Figure size 432x288 with 1 Axes>"
      ]
     },
     "metadata": {
      "needs_background": "light"
     },
     "output_type": "display_data"
    }
   ],
   "source": [
    "df2.cumsum().plot(y=\"Open\")"
   ]
  },
  {
   "cell_type": "code",
   "execution_count": 75,
   "metadata": {},
   "outputs": [
    {
     "data": {
      "text/plain": [
       "array([[<matplotlib.axes._subplots.AxesSubplot object at 0x122eb8c90>,\n",
       "        <matplotlib.axes._subplots.AxesSubplot object at 0x1234abb10>],\n",
       "       [<matplotlib.axes._subplots.AxesSubplot object at 0x123e25e50>,\n",
       "        <matplotlib.axes._subplots.AxesSubplot object at 0x124377b50>],\n",
       "       [<matplotlib.axes._subplots.AxesSubplot object at 0x1243b7e90>,\n",
       "        <matplotlib.axes._subplots.AxesSubplot object at 0x1243ecb90>]],\n",
       "      dtype=object)"
      ]
     },
     "execution_count": 75,
     "metadata": {},
     "output_type": "execute_result"
    },
    {
     "data": {
      "image/png": "[encoded data removed]",
      "text/plain": [
       "<Figure size 432x288 with 6 Axes>"
      ]
     },
     "metadata": {
      "needs_background": "light"
     },
     "output_type": "display_data"
    }
   ],
   "source": [
    "df2.hist()"
   ]
  },
  {
   "cell_type": "code",
   "execution_count": 76,
   "metadata": {},
   "outputs": [
    {
     "data": {
      "text/plain": [
       "<matplotlib.axes._subplots.AxesSubplot at 0x1244a9b10>"
      ]
     },
     "execution_count": 76,
     "metadata": {},
     "output_type": "execute_result"
    },
    {
     "data": {
      "image/png": "[encoded data removed]",
      "text/plain": [
       "<Figure size 432x288 with 1 Axes>"
      ]
     },
     "metadata": {
      "needs_background": "light"
     },
     "output_type": "display_data"
    }
   ],
   "source": [
    "df2.boxplot(column=[\"Open\", \"High\", \"Low\", \"Close\"])"
   ]
  },
  {
   "cell_type": "code",
   "execution_count": 77,
   "metadata": {},
   "outputs": [
    {
     "data": {
      "text/plain": [
       "<matplotlib.axes._subplots.AxesSubplot at 0x124cf09d0>"
      ]
     },
     "execution_count": 77,
     "metadata": {},
     "output_type": "execute_result"
    },
    {
     "data": {
      "image/png": "[encoded data removed]",
      "text/plain": [
       "<Figure size 432x288 with 1 Axes>"
      ]
     },
     "metadata": {
      "needs_background": "light"
     },
     "output_type": "display_data"
    }
   ],
   "source": [
    "df2.plot(y=\"Volume\")"
   ]
  },
  {
   "cell_type": "code",
   "execution_count": 78,
   "metadata": {},
   "outputs": [
    {
     "data": {
      "text/plain": [
       "<matplotlib.collections.PathCollection at 0x125182e10>"
      ]
     },
     "execution_count": 78,
     "metadata": {},
     "output_type": "execute_result"
    },
    {
     "data": {
      "image/png": "[encoded data removed]",
      "text/plain": [
       "<Figure size 432x288 with 1 Axes>"
      ]
     },
     "metadata": {
      "needs_background": "light"
     },
     "output_type": "display_data"
    }
   ],
   "source": [
    "plt.scatter(x=df2['Open'], y=df2['Volume'])"
   ]
  },
  {
   "cell_type": "markdown",
   "metadata": {},
   "source": [
    "After processing, we can see the graphs are much more manageable and that there is further evidence supporting the trend of Volume to the Open value as we now see a downwards trend in Volume as the years go by."
   ]
  }
 ],
 "metadata": {
  "kernelspec": {
   "display_name": "Python 3",
   "language": "python",
   "name": "python3"
  },
  "language_info": {
   "codemirror_mode": {
    "name": "ipython",
    "version": 3
   },
   "file_extension": ".py",
   "mimetype": "text/x-python",
   "name": "python",
   "nbconvert_exporter": "python",
   "pygments_lexer": "ipython3",
   "version": "3.7.4"
  }
 },
 "nbformat": 4,
 "nbformat_minor": 2
}

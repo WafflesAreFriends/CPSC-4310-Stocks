{
 "cells": [
  {
   "cell_type": "markdown",
   "metadata": {},
   "source": [
    "# DAP 5"
   ]
  },
  {
   "cell_type": "code",
   "execution_count": 5,
   "metadata": {},
   "outputs": [
    {
     "name": "stdout",
     "output_type": "stream",
     "text": [
      "Requirement already satisfied: sklearn in /Users/johnmunar/anaconda3/envs/tensorflow_amd/lib/python3.6/site-packages (0.0)\n",
      "Requirement already satisfied: scikit-learn in /Users/johnmunar/anaconda3/envs/tensorflow_amd/lib/python3.6/site-packages (from sklearn) (0.23.1)\n",
      "Requirement already satisfied: threadpoolctl>=2.0.0 in /Users/johnmunar/anaconda3/envs/tensorflow_amd/lib/python3.6/site-packages (from scikit-learn->sklearn) (2.0.0)\n",
      "Requirement already satisfied: scipy>=0.19.1 in /Users/johnmunar/anaconda3/envs/tensorflow_amd/lib/python3.6/site-packages (from scikit-learn->sklearn) (1.4.1)\n",
      "Requirement already satisfied: joblib>=0.11 in /Users/johnmunar/anaconda3/envs/tensorflow_amd/lib/python3.6/site-packages (from scikit-learn->sklearn) (0.15.1)\n",
      "Requirement already satisfied: numpy>=1.13.3 in /Users/johnmunar/anaconda3/envs/tensorflow_amd/lib/python3.6/site-packages (from scikit-learn->sklearn) (1.18.4)\n",
      "Collecting pandas\n",
      "  Downloading pandas-1.0.3-cp36-cp36m-macosx_10_9_x86_64.whl (10.2 MB)\n",
      "\u001b[K     |████████████████████████████████| 10.2 MB 2.0 MB/s eta 0:00:01\n",
      "\u001b[?25hRequirement already satisfied: numpy>=1.13.3 in /Users/johnmunar/anaconda3/envs/tensorflow_amd/lib/python3.6/site-packages (from pandas) (1.18.4)\n",
      "Requirement already satisfied: python-dateutil>=2.6.1 in /Users/johnmunar/anaconda3/envs/tensorflow_amd/lib/python3.6/site-packages (from pandas) (2.8.1)\n",
      "Collecting pytz>=2017.2\n",
      "  Downloading pytz-2020.1-py2.py3-none-any.whl (510 kB)\n",
      "\u001b[K     |████████████████████████████████| 510 kB 2.6 MB/s eta 0:00:01\n",
      "\u001b[?25hRequirement already satisfied: six>=1.5 in /Users/johnmunar/anaconda3/envs/tensorflow_amd/lib/python3.6/site-packages (from python-dateutil>=2.6.1->pandas) (1.15.0)\n",
      "Installing collected packages: pytz, pandas\n",
      "Successfully installed pandas-1.0.3 pytz-2020.1\n"
     ]
    }
   ],
   "source": [
    "!pip install sklearn\n",
    "!pip install pandas"
   ]
  },
  {
   "cell_type": "code",
   "execution_count": 17,
   "metadata": {},
   "outputs": [],
   "source": [
    "# Python ≥3.5 is required\n",
    "import sys\n",
    "assert sys.version_info >= (3, 5)\n",
    "\n",
    "# Scikit-Learn ≥0.20 is required\n",
    "import sklearn\n",
    "assert sklearn.__version__ >= \"0.20\"\n",
    "\n",
    "# Common imports\n",
    "import numpy as np\n",
    "import pandas as pd\n",
    "import os\n",
    "from sklearn.metrics import confusion_matrix\n",
    "from sklearn.metrics import roc_curve, auc\n",
    "from sklearn.metrics import classification_report\n",
    "from sklearn.metrics import mean_squared_error\n",
    "from sklearn.preprocessing import MinMaxScaler\n",
    "from sklearn.model_selection import train_test_split\n",
    "from sklearn.model_selection import KFold\n",
    "# from sklearn.neural_network import MLPClassifier\n",
    "\n",
    "import tensorflow as tf\n",
    "from tensorflow import keras\n",
    "\n",
    "import plaidml.keras\n",
    "plaidml.keras.install_backend()\n",
    "\n",
    "from keras.models import Sequential\n",
    "from keras.layers import Dense, Dropout, Flatten\n",
    "from keras.layers import Conv2D, MaxPooling2D\n",
    "from keras import backend as K\n",
    "\n",
    "# To plot pretty figures\n",
    "%matplotlib inline\n",
    "import matplotlib as mpl\n",
    "import matplotlib.pyplot as plt\n",
    "from matplotlib import cm\n",
    "mpl.rc('axes', labelsize=14)\n",
    "mpl.rc('xtick', labelsize=12)\n",
    "mpl.rc('ytick', labelsize=12)"
   ]
  },
  {
   "cell_type": "code",
   "execution_count": 18,
   "metadata": {},
   "outputs": [],
   "source": [
    "# grab data and split\n",
    "df = pd.read_csv(\"../DAP2/processeddata/2018_Financial_Data.csv\", index_col=0)\n",
    "target_cols = ['priceCashFlowRatio', \n",
    "               'priceEarningsRatio', \n",
    "               'priceEarningsToGrowthRatio', \n",
    "               'priceBookValueRatio', \n",
    "               'currentRatio', \n",
    "               'quickRatio',\n",
    "               'payoutRatio']\n",
    "X = df[target_cols]\n",
    "y = df['Class']\n",
    "X_train, X_test, y_train, y_test = train_test_split(X, y, random_state=0)\n",
    "\n",
    "# scale data\n",
    "scaler = MinMaxScaler()\n",
    "X_train_scaled = scaler.fit_transform(X_train)\n",
    "X_test_scaled = scaler.transform(X_test)\n",
    "\n",
    "# create cv\n",
    "kf = KFold(n_splits=10, random_state=None, shuffle=True) "
   ]
  },
  {
   "cell_type": "markdown",
   "metadata": {},
   "source": [
    "## Neural Network Construction"
   ]
  },
  {
   "cell_type": "code",
   "execution_count": 33,
   "metadata": {},
   "outputs": [
    {
     "name": "stdout",
     "output_type": "stream",
     "text": [
      "Hidden Layers:  1 with size  10\n",
      "\tAccuracy of NN classifier on training set: 0.77\n",
      "\tAccuracy of NN classifier on test set: 0.77\n",
      "Hidden Layers:  1 with size  20\n",
      "\tAccuracy of NN classifier on training set: 0.79\n",
      "\tAccuracy of NN classifier on test set: 0.77\n",
      "Hidden Layers:  1 with size  50\n",
      "\tAccuracy of NN classifier on training set: 0.81\n",
      "\tAccuracy of NN classifier on test set: 0.75\n",
      "Hidden Layers:  2 with size  10\n",
      "\tAccuracy of NN classifier on training set: 0.79\n",
      "\tAccuracy of NN classifier on test set: 0.76\n",
      "Hidden Layers:  2 with size  20\n",
      "\tAccuracy of NN classifier on training set: 0.87\n",
      "\tAccuracy of NN classifier on test set: 0.71\n",
      "Hidden Layers:  2 with size  50\n",
      "\tAccuracy of NN classifier on training set: 0.98\n",
      "\tAccuracy of NN classifier on test set: 0.66\n",
      "Hidden Layers:  3 with size  10\n",
      "\tAccuracy of NN classifier on training set: 0.79\n",
      "\tAccuracy of NN classifier on test set: 0.73\n",
      "Hidden Layers:  3 with size  20\n",
      "\tAccuracy of NN classifier on training set: 0.91\n",
      "\tAccuracy of NN classifier on test set: 0.68\n",
      "Hidden Layers:  3 with size  50\n",
      "\tAccuracy of NN classifier on training set: 0.99\n",
      "\tAccuracy of NN classifier on test set: 0.64\n"
     ]
    }
   ],
   "source": [
    "hidden_layers = range(1,4)\n",
    "hidden_layer_sizes = [10, 20, 50]\n",
    "for num_layers in hidden_layers:\n",
    "    for hidden_layer_size in hidden_layer_sizes:\n",
    "        size = [hidden_layer_size]*num_layers\n",
    "        nnclf = MLPClassifier(hidden_layer_sizes=size, solver='lbfgs',\n",
    "                          alpha = 0.01,\n",
    "                          random_state=0, max_iter = 10000).fit(X_train_scaled, y_train)\n",
    "        \n",
    "        print (\"Hidden Layers: \", num_layers, \"with size \", hidden_layer_size)\n",
    "        print('\\tAccuracy of NN classifier on training set: {:.2f}'\n",
    "              .format(nnclf.score(X_train_scaled, y_train)))\n",
    "        print('\\tAccuracy of NN classifier on test set: {:.2f}'\n",
    "              .format(nnclf.score(X_test_scaled, y_test)))"
   ]
  },
  {
   "cell_type": "code",
   "execution_count": null,
   "metadata": {},
   "outputs": [],
   "source": [
    "# hidden_layers = range(1,5)\n",
    "# hidden_layer_sizes = [10, 20, 50, 100]\n",
    "\n",
    "# for num_layers in hidden_layers:\n",
    "#     for hidden_layer_size in hidden_layer_sizes:\n",
    "#         model = keras.models.Sequential()\n",
    "#         model.add(Dense(hidden_layer_size))\n",
    "        "
   ]
  },
  {
   "cell_type": "code",
   "execution_count": 38,
   "metadata": {},
   "outputs": [
    {
     "name": "stdout",
     "output_type": "stream",
     "text": [
      "Alpha:  0.001\n",
      "\tAccuracy of NN classifier on training set: 0.79\n",
      "\tAccuracy of NN classifier on test set: 0.75\n",
      "Alpha:  0.01\n",
      "\tAccuracy of NN classifier on training set: 0.79\n",
      "\tAccuracy of NN classifier on test set: 0.77\n",
      "Alpha:  0.1\n",
      "\tAccuracy of NN classifier on training set: 0.80\n",
      "\tAccuracy of NN classifier on test set: 0.77\n",
      "Alpha:  1.0\n",
      "\tAccuracy of NN classifier on training set: 0.77\n",
      "\tAccuracy of NN classifier on test set: 0.77\n",
      "Alpha:  2.0\n",
      "\tAccuracy of NN classifier on training set: 0.76\n",
      "\tAccuracy of NN classifier on test set: 0.76\n",
      "Alpha:  3.0\n",
      "\tAccuracy of NN classifier on training set: 0.75\n",
      "\tAccuracy of NN classifier on test set: 0.77\n",
      "Alpha:  5.0\n",
      "\tAccuracy of NN classifier on training set: 0.75\n",
      "\tAccuracy of NN classifier on test set: 0.77\n"
     ]
    }
   ],
   "source": [
    "# Find optimal alpha\n",
    "\n",
    "alphas = [0.001, 0.01, 0.1, 1.0, 2.0, 3.0, 5.0]\n",
    "for this_alpha in alphas:\n",
    "    nnclf = MLPClassifier(hidden_layer_sizes=[20], solver='lbfgs',\n",
    "                          alpha = this_alpha,\n",
    "                          max_iter=10000,\n",
    "                          random_state=0).fit(X_train_scaled, y_train)\n",
    "    \n",
    "    print (\"Alpha: \", this_alpha)\n",
    "    print('\\tAccuracy of NN classifier on training set: {:.2f}'\n",
    "          .format(nnclf.score(X_train_scaled, y_train)))\n",
    "    print('\\tAccuracy of NN classifier on test set: {:.2f}'\n",
    "          .format(nnclf.score(X_test_scaled, y_test)))"
   ]
  },
  {
   "cell_type": "code",
   "execution_count": 43,
   "metadata": {},
   "outputs": [
    {
     "name": "stdout",
     "output_type": "stream",
     "text": [
      "Activation function  identity\n",
      "\tAccuracy of NN classifier on training set: 0.75\n",
      "\tAccuracy of NN classifier on test set: 0.77\n",
      "Activation function  logistic\n",
      "\tAccuracy of NN classifier on training set: 0.78\n",
      "\tAccuracy of NN classifier on test set: 0.77\n",
      "Activation function  tanh\n",
      "\tAccuracy of NN classifier on training set: 0.83\n",
      "\tAccuracy of NN classifier on test set: 0.76\n",
      "Activation function  relu\n",
      "\tAccuracy of NN classifier on training set: 0.80\n",
      "\tAccuracy of NN classifier on test set: 0.77\n"
     ]
    }
   ],
   "source": [
    "for this_activation in ['identity', 'logistic', 'tanh', 'relu']:\n",
    "    nnclf = MLPClassifier(hidden_layer_sizes=[20], solver='lbfgs',\n",
    "                          activation = this_activation,\n",
    "                          alpha = 0.1,\n",
    "                          max_iter=10000,\n",
    "                          random_state=0).fit(X_train_scaled, y_train)\n",
    "    \n",
    "    print (\"Activation function \", this_activation)\n",
    "    print('\\tAccuracy of NN classifier on training set: {:.2f}'\n",
    "          .format(nnclf.score(X_train_scaled, y_train)))\n",
    "    print('\\tAccuracy of NN classifier on test set: {:.2f}'\n",
    "          .format(nnclf.score(X_test_scaled, y_test)))"
   ]
  },
  {
   "cell_type": "markdown",
   "metadata": {},
   "source": [
    "## Analysis of Optimal Parameters"
   ]
  },
  {
   "cell_type": "code",
   "execution_count": null,
   "metadata": {},
   "outputs": [],
   "source": [
    "# Batch_Size,\n",
    "# Learning_rate"
   ]
  },
  {
   "cell_type": "code",
   "execution_count": 44,
   "metadata": {},
   "outputs": [
    {
     "name": "stdout",
     "output_type": "stream",
     "text": [
      "\tAccuracy of NN classifier on training set: 0.80\n",
      "\tAccuracy of NN classifier on test set: 0.77\n"
     ]
    }
   ],
   "source": [
    "nnclf = MLPClassifier(hidden_layer_sizes=[20], solver='lbfgs',\n",
    "                          activation = 'relu',\n",
    "                          alpha = 0.1,\n",
    "                          max_iter=10000,\n",
    "                          random_state=0).fit(X_train_scaled, y_train)\n",
    "\n",
    "print('\\tAccuracy of NN classifier on training set: {:.2f}'\n",
    "          .format(nnclf.score(X_train_scaled, y_train)))\n",
    "print('\\tAccuracy of NN classifier on test set: {:.2f}'\n",
    "          .format(nnclf.score(X_test_scaled, y_test)))"
   ]
  },
  {
   "cell_type": "markdown",
   "metadata": {},
   "source": [
    "## Summary"
   ]
  },
  {
   "cell_type": "code",
   "execution_count": null,
   "metadata": {},
   "outputs": [],
   "source": []
  }
 ],
 "metadata": {
  "kernelspec": {
   "display_name": "Python 3",
   "language": "python",
   "name": "python3"
  },
  "language_info": {
   "codemirror_mode": {
    "name": "ipython",
    "version": 3
   },
   "file_extension": ".py",
   "mimetype": "text/x-python",
   "name": "python",
   "nbconvert_exporter": "python",
   "pygments_lexer": "ipython3",
   "version": "3.6.10"
  }
 },
 "nbformat": 4,
 "nbformat_minor": 4
}

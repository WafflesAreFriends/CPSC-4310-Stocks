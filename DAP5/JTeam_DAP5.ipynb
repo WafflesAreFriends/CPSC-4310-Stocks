{
 "cells": [
  {
   "cell_type": "markdown",
   "metadata": {},
   "source": [
    "# DAP 5"
   ]
  },
  {
   "cell_type": "code",
   "execution_count": 2,
   "metadata": {},
   "outputs": [
    {
     "name": "stderr",
     "output_type": "stream",
     "text": [
      "Using TensorFlow backend.\n"
     ]
    }
   ],
   "source": [
    "# Python ≥3.5 is required\n",
    "import sys\n",
    "assert sys.version_info >= (3, 5)\n",
    "\n",
    "# Scikit-Learn ≥0.20 is required\n",
    "import sklearn\n",
    "assert sklearn.__version__ >= \"0.20\"\n",
    "\n",
    "# Common imports\n",
    "import numpy as np\n",
    "import pandas as pd\n",
    "import os\n",
    "from sklearn.metrics import confusion_matrix\n",
    "from sklearn.metrics import roc_curve, auc\n",
    "from sklearn.metrics import classification_report\n",
    "from sklearn.metrics import mean_squared_error\n",
    "from sklearn.preprocessing import MinMaxScaler\n",
    "from sklearn.model_selection import train_test_split\n",
    "from sklearn.model_selection import KFold\n",
    "from sklearn.neural_network import MLPClassifier\n",
    "\n",
    "import tensorflow as tf\n",
    "from tensorflow import keras\n",
    "\n",
    "from keras.models import Sequential\n",
    "from keras.layers import Dense, Dropout, Flatten\n",
    "from keras.layers import Conv2D, MaxPooling2D\n",
    "from keras import backend as K\n",
    "\n",
    "# To plot pretty figures\n",
    "%matplotlib inline\n",
    "import matplotlib as mpl\n",
    "import matplotlib.pyplot as plt\n",
    "from matplotlib import cm\n",
    "mpl.rc('axes', labelsize=14)\n",
    "mpl.rc('xtick', labelsize=12)\n",
    "mpl.rc('ytick', labelsize=12)"
   ]
  },
  {
   "cell_type": "code",
   "execution_count": 3,
   "metadata": {},
   "outputs": [],
   "source": [
    "# grab data and split\n",
    "df = pd.read_csv(\"../DAP2/processeddata/2018_Financial_Data.csv\", index_col=0)\n",
    "target_cols = ['priceCashFlowRatio', \n",
    "               'priceEarningsRatio', \n",
    "               'priceEarningsToGrowthRatio', \n",
    "               'priceBookValueRatio', \n",
    "               'currentRatio', \n",
    "               'quickRatio',\n",
    "               'payoutRatio']\n",
    "X = df[target_cols]\n",
    "y = df['Class']\n",
    "X_train, X_test, y_train, y_test = train_test_split(X, y, random_state=0)\n",
    "\n",
    "# scale data\n",
    "scaler = MinMaxScaler()\n",
    "X_train_scaled = scaler.fit_transform(X_train)\n",
    "X_test_scaled = scaler.transform(X_test)"
   ]
  },
  {
   "cell_type": "code",
   "execution_count": 4,
   "metadata": {},
   "outputs": [],
   "source": [
    "# show confusion matrix - written by dr bae\n",
    "def plot_confusion_matrix(confusion_mat, cln):\n",
    "    plt.imshow(confusion_mat, interpolation='nearest', cmap=plt.cm.gray)\n",
    "    plt.title('Confusion matrix')\n",
    "    plt.colorbar()\n",
    "    tick_marks = np.arange(cln)\n",
    "    plt.xticks(tick_marks, tick_marks)\n",
    "    plt.yticks(tick_marks, tick_marks)\n",
    "    plt.ylabel('True label')\n",
    "    plt.xlabel('Predicted label')\n",
    "    plt.show()"
   ]
  },
  {
   "cell_type": "markdown",
   "metadata": {},
   "source": [
    "## Neural Network Construction"
   ]
  },
  {
   "cell_type": "code",
   "execution_count": 6,
   "metadata": {},
   "outputs": [
    {
     "name": "stdout",
     "output_type": "stream",
     "text": [
      "Hidden Layers:  1 with size  10\n",
      "\tAlpha: 0.01\n",
      "\t\tAccuracy of NN classifier on training set: 0.77\n",
      "\t\tAccuracy of NN classifier on test set: 0.78\n",
      "\tAlpha: 0.1\n",
      "\t\tAccuracy of NN classifier on training set: 0.77\n",
      "\t\tAccuracy of NN classifier on test set: 0.75\n",
      "\tAlpha: 1.0\n",
      "\t\tAccuracy of NN classifier on training set: 0.76\n",
      "\t\tAccuracy of NN classifier on test set: 0.76\n",
      "\tAlpha: 5.0\n",
      "\t\tAccuracy of NN classifier on training set: 0.75\n",
      "\t\tAccuracy of NN classifier on test set: 0.77\n",
      "Hidden Layers:  1 with size  20\n",
      "\tAlpha: 0.01\n",
      "\t\tAccuracy of NN classifier on training set: 0.79\n",
      "\t\tAccuracy of NN classifier on test set: 0.77\n",
      "\tAlpha: 0.1\n",
      "\t\tAccuracy of NN classifier on training set: 0.80\n",
      "\t\tAccuracy of NN classifier on test set: 0.77\n",
      "\tAlpha: 1.0\n",
      "\t\tAccuracy of NN classifier on training set: 0.77\n",
      "\t\tAccuracy of NN classifier on test set: 0.77\n",
      "\tAlpha: 5.0\n",
      "\t\tAccuracy of NN classifier on training set: 0.75\n",
      "\t\tAccuracy of NN classifier on test set: 0.77\n",
      "Hidden Layers:  1 with size  50\n",
      "\tAlpha: 0.01\n",
      "\t\tAccuracy of NN classifier on training set: 0.81\n",
      "\t\tAccuracy of NN classifier on test set: 0.75\n",
      "\tAlpha: 0.1\n",
      "\t\tAccuracy of NN classifier on training set: 0.82\n",
      "\t\tAccuracy of NN classifier on test set: 0.76\n",
      "\tAlpha: 1.0\n",
      "\t\tAccuracy of NN classifier on training set: 0.77\n",
      "\t\tAccuracy of NN classifier on test set: 0.77\n",
      "\tAlpha: 5.0\n",
      "\t\tAccuracy of NN classifier on training set: 0.75\n",
      "\t\tAccuracy of NN classifier on test set: 0.76\n",
      "Hidden Layers:  2 with size  10\n",
      "\tAlpha: 0.01\n",
      "\t\tAccuracy of NN classifier on training set: 0.78\n",
      "\t\tAccuracy of NN classifier on test set: 0.75\n",
      "\tAlpha: 0.1\n",
      "\t\tAccuracy of NN classifier on training set: 0.79\n",
      "\t\tAccuracy of NN classifier on test set: 0.77\n",
      "\tAlpha: 1.0\n",
      "\t\tAccuracy of NN classifier on training set: 0.76\n",
      "\t\tAccuracy of NN classifier on test set: 0.75\n",
      "\tAlpha: 5.0\n",
      "\t\tAccuracy of NN classifier on training set: 0.75\n",
      "\t\tAccuracy of NN classifier on test set: 0.76\n",
      "Hidden Layers:  2 with size  20\n",
      "\tAlpha: 0.01\n",
      "\t\tAccuracy of NN classifier on training set: 0.86\n",
      "\t\tAccuracy of NN classifier on test set: 0.73\n",
      "\tAlpha: 0.1\n",
      "\t\tAccuracy of NN classifier on training set: 0.84\n",
      "\t\tAccuracy of NN classifier on test set: 0.72\n",
      "\tAlpha: 1.0\n",
      "\t\tAccuracy of NN classifier on training set: 0.77\n",
      "\t\tAccuracy of NN classifier on test set: 0.75\n",
      "\tAlpha: 5.0\n",
      "\t\tAccuracy of NN classifier on training set: 0.76\n",
      "\t\tAccuracy of NN classifier on test set: 0.77\n",
      "Hidden Layers:  2 with size  50\n",
      "\tAlpha: 0.01\n",
      "\t\tAccuracy of NN classifier on training set: 0.95\n",
      "\t\tAccuracy of NN classifier on test set: 0.69\n",
      "\tAlpha: 0.1\n",
      "\t\tAccuracy of NN classifier on training set: 0.92\n",
      "\t\tAccuracy of NN classifier on test set: 0.70\n",
      "\tAlpha: 1.0\n",
      "\t\tAccuracy of NN classifier on training set: 0.80\n",
      "\t\tAccuracy of NN classifier on test set: 0.77\n",
      "\tAlpha: 5.0\n",
      "\t\tAccuracy of NN classifier on training set: 0.76\n",
      "\t\tAccuracy of NN classifier on test set: 0.77\n"
     ]
    }
   ],
   "source": [
    "# test varying number of hidden layers, with varying number of nodes \n",
    "hidden_layer_range = range(1,3)\n",
    "node_range = [10, 20, 50]\n",
    "\n",
    "# test varying alpha parameter \n",
    "alpha_range = [0.01, 0.1, 1.0, 5.0]\n",
    "\n",
    "# compare all models simultaneously\n",
    "for layer_size in hidden_layer_range: \n",
    "    for node_size in node_range: \n",
    "        print (\"Hidden Layers: \", layer_size, \"with size \", node_size)\n",
    "        for this_alpha in alpha_range:\n",
    "            nnclf = MLPClassifier(\n",
    "                hidden_layer_sizes=[node_size]*layer_size, \n",
    "                solver='lbfgs',\n",
    "                alpha=this_alpha,\n",
    "                random_state=0, max_iter=50000).fit(X_train_scaled, y_train)\n",
    "            print('\\tAlpha:',this_alpha)\n",
    "            print('\\t\\tAccuracy of NN classifier on training set: {:.2f}'\n",
    "                .format(nnclf.score(X_train_scaled, y_train)))\n",
    "            print('\\t\\tAccuracy of NN classifier on test set: {:.2f}'\n",
    "                .format(nnclf.score(X_test_scaled, y_test)))"
   ]
  },
  {
   "cell_type": "code",
   "execution_count": 7,
   "metadata": {},
   "outputs": [
    {
     "name": "stdout",
     "output_type": "stream",
     "text": [
      "NN1 - 1 10 0.01\n",
      "Activation function identity\n",
      "\tAccuracy of NN classifier on training set: 0.75\n",
      "\tAccuracy of NN classifier on test set: 0.76\n",
      "Activation function logistic\n",
      "\tAccuracy of NN classifier on training set: 0.80\n",
      "\tAccuracy of NN classifier on test set: 0.76\n",
      "Activation function tanh\n",
      "\tAccuracy of NN classifier on training set: 0.80\n",
      "\tAccuracy of NN classifier on test set: 0.78\n",
      "Activation function relu\n",
      "\tAccuracy of NN classifier on training set: 0.77\n",
      "\tAccuracy of NN classifier on test set: 0.78\n",
      "NN2 - 2 10 0.1\n",
      "Activation function identity\n",
      "\tAccuracy of NN classifier on training set: 0.75\n",
      "\tAccuracy of NN classifier on test set: 0.76\n",
      "Activation function logistic\n",
      "\tAccuracy of NN classifier on training set: 0.80\n",
      "\tAccuracy of NN classifier on test set: 0.74\n",
      "Activation function tanh\n",
      "\tAccuracy of NN classifier on training set: 0.87\n",
      "\tAccuracy of NN classifier on test set: 0.74\n",
      "Activation function relu\n",
      "\tAccuracy of NN classifier on training set: 0.79\n",
      "\tAccuracy of NN classifier on test set: 0.77\n"
     ]
    }
   ],
   "source": [
    "# take best two and find optimal activation function \n",
    "print('NN1 - 1 10 0.01')\n",
    "for this_activation in ['identity', 'logistic', 'tanh', 'relu']:\n",
    "    # 1 10 0.01 \n",
    "    nnclf1 = MLPClassifier(hidden_layer_sizes=[10], solver='lbfgs',\n",
    "                          activation=this_activation,\n",
    "                          alpha=0.01,\n",
    "                          max_iter=10000,\n",
    "                          random_state=0).fit(X_train_scaled, y_train)\n",
    "    print ('Activation function', this_activation)\n",
    "    print('\\tAccuracy of NN classifier on training set: {:.2f}'\n",
    "          .format(nnclf1.score(X_train_scaled, y_train)))\n",
    "    print('\\tAccuracy of NN classifier on test set: {:.2f}'\n",
    "          .format(nnclf1.score(X_test_scaled, y_test)))\n",
    "    \n",
    "print('NN2 - 2 10 0.1')           \n",
    "for this_activation in ['identity', 'logistic', 'tanh', 'relu']:\n",
    "    # 2 10 0.1 \n",
    "    nnclf2 = MLPClassifier(hidden_layer_sizes=[10, 10], solver='lbfgs',\n",
    "                          activation=this_activation,\n",
    "                          alpha=0.1,\n",
    "                          max_iter=10000,\n",
    "                          random_state=0).fit(X_train_scaled, y_train)\n",
    "    print ('Activation function', this_activation)\n",
    "    print('\\tAccuracy of NN classifier on training set: {:.2f}'\n",
    "          .format(nnclf2.score(X_train_scaled, y_train)))\n",
    "    print('\\tAccuracy of NN classifier on test set: {:.2f}'\n",
    "          .format(nnclf2.score(X_test_scaled, y_test)))"
   ]
  },
  {
   "cell_type": "markdown",
   "metadata": {},
   "source": [
    "## Analysis of Optimal Parameters"
   ]
  },
  {
   "cell_type": "code",
   "execution_count": 8,
   "metadata": {},
   "outputs": [],
   "source": [
    "cls = {\n",
    "    # 1 10 0.01 tanh\n",
    "    'NN1' : MLPClassifier(hidden_layer_sizes=[10], activation='tanh', alpha=0.01, random_state=0, max_iter=50000),\n",
    "    # 2 10 0.1 relu\n",
    "    'NN2' : MLPClassifier(hidden_layer_sizes=[10, 10], activation='relu', alpha=0.1, random_state=0, max_iter=50000)\n",
    "}"
   ]
  },
  {
   "cell_type": "code",
   "execution_count": 9,
   "metadata": {},
   "outputs": [],
   "source": [
    "# create new split using optimal parameters\n",
    "X_train, X_test, y_train, y_test = train_test_split(X, y, random_state=1)\n",
    "X_train_scaled = scaler.fit_transform(X_train)\n",
    "X_test_scaled = scaler.transform(X_test)"
   ]
  },
  {
   "cell_type": "code",
   "execution_count": 17,
   "metadata": {},
   "outputs": [
    {
     "name": "stdout",
     "output_type": "stream",
     "text": [
      "Accuracy of NN1 classifier on training set: 0.75\n",
      "Accuracy of NN1 classifier on test set: 0.75\n",
      "\n",
      "Accuracy of NN2 classifier on training set: 0.74\n",
      "Accuracy of NN2 classifier on test set: 0.77\n"
     ]
    }
   ],
   "source": [
    "# assure accuracy \n",
    "print('Accuracy of NN1 classifier on training set: {:.2f}'\n",
    "          .format(cls['NN1'].score(X_train_scaled, y_train)))\n",
    "print('Accuracy of NN1 classifier on test set: {:.2f}'\n",
    "          .format(cls['NN1'].score(X_test_scaled, y_test)))\n",
    "print('\\nAccuracy of NN2 classifier on training set: {:.2f}'\n",
    "          .format(cls['NN2'].score(X_train_scaled, y_train)))\n",
    "print('Accuracy of NN2 classifier on test set: {:.2f}'\n",
    "          .format(cls['NN2'].score(X_test_scaled, y_test)))"
   ]
  },
  {
   "cell_type": "code",
   "execution_count": 18,
   "metadata": {},
   "outputs": [
    {
     "name": "stdout",
     "output_type": "stream",
     "text": [
      "NN1 \n",
      " [[ 16  77]\n",
      " [ 21 295]]\n"
     ]
    },
    {
     "data": {
      "image/png": "[encoded data removed]",
      "text/plain": [
       "<Figure size 432x288 with 2 Axes>"
      ]
     },
     "metadata": {
      "needs_background": "light"
     },
     "output_type": "display_data"
    },
    {
     "name": "stdout",
     "output_type": "stream",
     "text": [
      "NN2 \n",
      " [[ 18  75]\n",
      " [ 27 289]]\n"
     ]
    },
    {
     "data": {
      "image/png": "[encoded data removed]",
      "text/plain": [
       "<Figure size 432x288 with 2 Axes>"
      ]
     },
     "metadata": {
      "needs_background": "light"
     },
     "output_type": "display_data"
    }
   ],
   "source": [
    "# print confusion matrix \n",
    "for cl in cls: \n",
    "    cls[cl].fit(X_train_scaled, y_train)\n",
    "    y_pred = cls[cl].predict(X_test_scaled)\n",
    "\n",
    "    # create and plot a confusion matrix\n",
    "    confusion_mat = confusion_matrix(y_test, y_pred)\n",
    "    print(cl,'\\n',confusion_mat)\n",
    "    plot_confusion_matrix(confusion_mat, 2)"
   ]
  },
  {
   "cell_type": "code",
   "execution_count": 19,
   "metadata": {},
   "outputs": [
    {
     "name": "stdout",
     "output_type": "stream",
     "text": [
      "NN1 Accuracy =  0.6365183067918878\n"
     ]
    },
    {
     "data": {
      "image/png": "[encoded data removed]",
      "text/plain": [
       "<Figure size 432x288 with 1 Axes>"
      ]
     },
     "metadata": {
      "needs_background": "light"
     },
     "output_type": "display_data"
    },
    {
     "name": "stdout",
     "output_type": "stream",
     "text": [
      "NN2 Accuracy =  0.6330134748877092\n"
     ]
    },
    {
     "data": {
      "image/png": "[encoded data removed]",
      "text/plain": [
       "<Figure size 432x288 with 1 Axes>"
      ]
     },
     "metadata": {
      "needs_background": "light"
     },
     "output_type": "display_data"
    }
   ],
   "source": [
    "# roc curves \n",
    "for cl in cls: \n",
    "    y_pred = cls[cl].predict_proba(X_test_scaled)\n",
    "\n",
    "    false_positive_rate, true_positive_rate, thresholds = roc_curve(y_test, y_pred[:,1])\n",
    "    roc_auc = auc(false_positive_rate, true_positive_rate)\n",
    "    print(cl,'Accuracy = ', roc_auc)\n",
    "\n",
    "    # Plotting\n",
    "    plt.title('ROC')\n",
    "    plt.plot(false_positive_rate, true_positive_rate, c='r', label=('Accuracy = %0.2f'%roc_auc))\n",
    "    plt.legend(loc='lower right', prop={'size':8})\n",
    "    plt.plot([0,1],[0,1], color='lightgrey', linestyle='--')\n",
    "    plt.xlim([-0.05,1.0])\n",
    "    plt.ylim([0.0,1.05])\n",
    "    plt.ylabel('True Positive Rate')\n",
    "    plt.xlabel('False Positive Rate')\n",
    "    plt.show()"
   ]
  },
  {
   "cell_type": "code",
   "execution_count": 20,
   "metadata": {},
   "outputs": [
    {
     "name": "stdout",
     "output_type": "stream",
     "text": [
      "NN1 learning curve\n",
      "NN2 learning curve\n"
     ]
    },
    {
     "data": {
      "image/png": "[encoded data removed]",
      "text/plain": [
       "<Figure size 432x288 with 1 Axes>"
      ]
     },
     "metadata": {
      "needs_background": "light"
     },
     "output_type": "display_data"
    },
    {
     "data": {
      "image/png": "[encoded data removed]",
      "text/plain": [
       "<Figure size 432x288 with 1 Axes>"
      ]
     },
     "metadata": {
      "needs_background": "light"
     },
     "output_type": "display_data"
    }
   ],
   "source": [
    "# learning curves\n",
    "for cl in cls: \n",
    "    train_errors, test_errors = [], []\n",
    "    plt.figure()\n",
    "    for m in range(1, len(X_train_scaled), 25):\n",
    "        cls[cl].fit(X_train_scaled[:m], y_train[:m])\n",
    "        y_train_predict = cls[cl].predict(X_train_scaled[:m])\n",
    "        y_test_predict = cls[cl].predict(X_test_scaled)\n",
    "        train_errors.append(mean_squared_error(y_train[:m], y_train_predict))\n",
    "        test_errors.append(mean_squared_error(y_test, y_test_predict))\n",
    "    \n",
    "    print(cl,\"learning curve\")\n",
    "    plt.plot(np.sqrt(train_errors), \"r-+\", linewidth=2, label=\"train\")\n",
    "    plt.plot(np.sqrt(test_errors), \"b-\", linewidth=3, label=\"val\")\n",
    "    plt.legend(loc=\"lower right\", fontsize=14)   \n",
    "    plt.xlabel(\"Training set size\", fontsize=14) \n",
    "    plt.ylabel(\"RMSE\", fontsize=14)      "
   ]
  },
  {
   "cell_type": "markdown",
   "metadata": {},
   "source": [
    "## Summary\n",
    "\n",
    "   We tested range of one to two hidden layers, each with ten to fifty nodes per layer on a range of alphas from 0.01 to 5.0 and visually compared the training and testing accuracies to select several for further testing. We observed a tradeoff of training and testing accuracy as with higher training accuracy came lower testing accuracy as the model overfitted the data. Most of the NN's had similar accuracies, often to the nearest percent.  \n",
    "   We opted to choose the best two in our opinion: one layer of ten nodes and an alpha of 0.01 and two layers of ten nodes and an alpha of 0.1. We then compared these against one another using a range of activation functions: identity, relu, tang and logistic. We observed that the first NN performed best with tanh and the second NN performed best with relu. \n",
    "   Once we had our optimal parameters, we began evaluating our models on a new split of data. We first analyzed confusion matrices of both NNs, observing that we have a very high number of true positives and a relatively low number of true negatives - possibly due to the imbalanced class distribution in our data. We could address this in the next phase through data resampling with replacement. Next, we plotted ROC and learning curves. It appears that our models perform alright on our data but not spectacularly. This could potentially be resolved through more processing power to test different combinations and larger ranges of parameters more efficiently.   "
   ]
  }
 ],
 "metadata": {
  "kernelspec": {
   "display_name": "Python 3",
   "language": "python",
   "name": "python3"
  },
  "language_info": {
   "codemirror_mode": {
    "name": "ipython",
    "version": 3
   },
   "file_extension": ".py",
   "mimetype": "text/x-python",
   "name": "python",
   "nbconvert_exporter": "python",
   "pygments_lexer": "ipython3",
   "version": "3.7.4"
  }
 },
 "nbformat": 4,
 "nbformat_minor": 4
}
